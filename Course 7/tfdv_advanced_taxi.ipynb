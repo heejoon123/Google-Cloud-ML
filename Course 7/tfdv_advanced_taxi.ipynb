{
 "cells": [
  {
   "cell_type": "markdown",
   "metadata": {
    "id": "YuSYVbwEYNHw"
   },
   "source": [
    "# TensorFlow Data Validation (Advanced)"
   ]
  },
  {
   "cell_type": "markdown",
   "metadata": {
    "id": "mPt5BHTwy_0F"
   },
   "source": [
    "## Learning Objectives\n",
    "\n",
    "1. Install TFDV\n",
    "2. Compute and visualize statistics\n",
    "3. Infer a schema\n",
    "4. Check evaluation data for errors\n",
    "5. Check for evaluation anomalies and fix it\n",
    "6. Check for drift and skew\n",
    "7. Freeze the schema\n",
    "\n",
    "\n",
    "\n",
    "## Introduction \n",
    "\n",
    "This notebook illustrates how TensorFlow Data Validation (TFDV) can be used to investigate and visualize your dataset.  That includes looking at descriptive statistics, inferring a schema, checking for and fixing anomalies, and checking for drift and skew in our dataset.  It's important to understand your dataset's characteristics, including how it might change over time in your production pipeline.  It's also important to look for anomalies in your data, and to compare your training, evaluation, and serving datasets to make sure that they're consistent.\n",
    "\n",
    "We'll use data from the [Taxi Trips dataset](https://data.cityofchicago.org/Transportation/Taxi-Trips/wrvz-psew) released by the City of Chicago.\n",
    "\n",
    "Note: This site provides applications using data that has been modified for use from its original source, www.cityofchicago.org, the official website of the City of Chicago. The City of Chicago makes no claims as to the content, accuracy, timeliness, or completeness of any of the data provided at this site. The data provided at this site is subject to change at any time. It is understood that the data provided at this site is being used at one’s own risk.\n",
    "\n",
    "[Read more](https://cloud.google.com/bigquery/public-data/chicago-taxi) about the dataset in [Google BigQuery](https://cloud.google.com/bigquery/). Explore the full dataset in the [BigQuery UI](https://console.cloud.google.com/bigquery?p=bigquery-public-data&d=chicago_taxi_trips&page=dataset).\n",
    "\n",
    "Key Point: As a modeler and developer, think about how this data is used and the potential benefits and harm a model's predictions can cause. A model like this could reinforce societal biases and disparities. Is a feature relevant to the problem you want to solve or will it introduce bias? For more information, read about [ML fairness](https://developers.google.com/machine-learning/fairness-overview/).\n",
    "\n",
    "Each learning objective will correspond to a __#TODO__ in this student lab notebook -- try to complete this notebook first and then review the [Solution Notebook](https://github.com/GoogleCloudPlatform/training-data-analyst/blob/master/courses/machine_learning/deepdive2/production_ml/solutions/tfdv_advanced_taxi.ipynb) for reference. \n"
   ]
  },
  {
   "cell_type": "markdown",
   "metadata": {
    "id": "Fnm6Mj3vTGLm"
   },
   "source": [
    "The columns in the dataset are:\n",
    "<table>\n",
    "<tr><td>pickup_community_area</td><td>fare</td><td>trip_start_month</td></tr>\n",
    "\n",
    "<tr><td>trip_start_hour</td><td>trip_start_day</td><td>trip_start_timestamp</td></tr>\n",
    "<tr><td>pickup_latitude</td><td>pickup_longitude</td><td>dropoff_latitude</td></tr>\n",
    "<tr><td>dropoff_longitude</td><td>trip_miles</td><td>pickup_census_tract</td></tr>\n",
    "<tr><td>dropoff_census_tract</td><td>payment_type</td><td>company</td></tr>\n",
    "<tr><td>trip_seconds</td><td>dropoff_community_area</td><td>tips</td></tr>\n",
    "</table>"
   ]
  },
  {
   "cell_type": "markdown",
   "metadata": {
    "colab_type": "text",
    "id": "AsHg6SD2nO1v"
   },
   "source": [
    "### Install Libraries"
   ]
  },
  {
   "cell_type": "code",
   "execution_count": 2,
   "metadata": {},
   "outputs": [
    {
     "name": "stdout",
     "output_type": "stream",
     "text": [
      "Collecting tensorflow-data-validation\n",
      "  Downloading tensorflow_data_validation-1.9.0-cp37-cp37m-manylinux_2_12_x86_64.manylinux2010_x86_64.whl (1.5 MB)\n",
      "\u001b[2K     \u001b[90m━━━━━━━━━━━━━━━━━━━━━━━━━━━━━━━━━━━━━━━━\u001b[0m \u001b[32m1.5/1.5 MB\u001b[0m \u001b[31m29.1 MB/s\u001b[0m eta \u001b[36m0:00:00\u001b[0ma \u001b[36m0:00:01\u001b[0m\n",
      "\u001b[?25hRequirement already satisfied: pandas<2,>=1.0 in /opt/conda/lib/python3.7/site-packages (from tensorflow-data-validation) (1.3.5)\n",
      "Collecting joblib<0.15,>=0.12\n",
      "  Downloading joblib-0.14.1-py2.py3-none-any.whl (294 kB)\n",
      "\u001b[2K     \u001b[90m━━━━━━━━━━━━━━━━━━━━━━━━━━━━━━━━━━━━━━\u001b[0m \u001b[32m294.9/294.9 kB\u001b[0m \u001b[31m36.0 MB/s\u001b[0m eta \u001b[36m0:00:00\u001b[0m\n",
      "\u001b[?25hCollecting pyarrow<6,>=1\n",
      "  Downloading pyarrow-5.0.0-cp37-cp37m-manylinux2014_x86_64.whl (23.6 MB)\n",
      "\u001b[2K     \u001b[90m━━━━━━━━━━━━━━━━━━━━━━━━━━━━━━━━━━━━━━━━\u001b[0m \u001b[32m23.6/23.6 MB\u001b[0m \u001b[31m52.3 MB/s\u001b[0m eta \u001b[36m0:00:00\u001b[0m00:01\u001b[0m00:01\u001b[0m\n",
      "\u001b[?25hRequirement already satisfied: tfx-bsl<1.10,>=1.9.0 in /opt/conda/lib/python3.7/site-packages (from tensorflow-data-validation) (1.9.0)\n",
      "Requirement already satisfied: tensorflow-metadata<1.10,>=1.9.0 in /opt/conda/lib/python3.7/site-packages (from tensorflow-data-validation) (1.9.0)\n",
      "Collecting pyfarmhash<0.4,>=0.2\n",
      "  Downloading pyfarmhash-0.3.2.tar.gz (99 kB)\n",
      "\u001b[2K     \u001b[90m━━━━━━━━━━━━━━━━━━━━━━━━━━━━━━━━━━━━━━━━\u001b[0m \u001b[32m99.9/99.9 kB\u001b[0m \u001b[31m16.2 MB/s\u001b[0m eta \u001b[36m0:00:00\u001b[0m\n",
      "\u001b[?25h  Preparing metadata (setup.py) ... \u001b[?25ldone\n",
      "\u001b[?25hCollecting tensorflow!=2.0.*,!=2.1.*,!=2.2.*,!=2.3.*,!=2.4.*,!=2.5.*,!=2.6.*,!=2.7.*,!=2.8.*,<3,>=1.15.5\n",
      "  Downloading tensorflow-2.9.1-cp37-cp37m-manylinux_2_17_x86_64.manylinux2014_x86_64.whl (511.7 MB)\n",
      "\u001b[2K     \u001b[90m━━━━━━━━━━━━━━━━━━━━━━━━━━━━━━━━━━━━━━━\u001b[0m \u001b[32m511.7/511.7 MB\u001b[0m \u001b[31m1.8 MB/s\u001b[0m eta \u001b[36m0:00:00\u001b[0m00:01\u001b[0m00:01\u001b[0m\n",
      "\u001b[?25hRequirement already satisfied: six<2,>=1.12 in /opt/conda/lib/python3.7/site-packages (from tensorflow-data-validation) (1.15.0)\n",
      "Requirement already satisfied: numpy<2,>=1.16 in /opt/conda/lib/python3.7/site-packages (from tensorflow-data-validation) (1.19.5)\n",
      "Requirement already satisfied: absl-py<2.0.0,>=0.9 in /opt/conda/lib/python3.7/site-packages (from tensorflow-data-validation) (0.15.0)\n",
      "Requirement already satisfied: protobuf<4,>=3.13 in /opt/conda/lib/python3.7/site-packages (from tensorflow-data-validation) (3.20.1)\n",
      "Requirement already satisfied: apache-beam[gcp]<3,>=2.38 in /opt/conda/lib/python3.7/site-packages (from tensorflow-data-validation) (2.40.0)\n",
      "Requirement already satisfied: pydot<2,>=1.2.0 in /opt/conda/lib/python3.7/site-packages (from apache-beam[gcp]<3,>=2.38->tensorflow-data-validation) (1.4.2)\n",
      "Requirement already satisfied: fastavro<2,>=0.23.6 in /opt/conda/lib/python3.7/site-packages (from apache-beam[gcp]<3,>=2.38->tensorflow-data-validation) (1.5.2)\n",
      "Collecting dill<0.3.2,>=0.3.1.1\n",
      "  Downloading dill-0.3.1.1.tar.gz (151 kB)\n",
      "\u001b[2K     \u001b[90m━━━━━━━━━━━━━━━━━━━━━━━━━━━━━━━━━━━━━\u001b[0m \u001b[32m152.0/152.0 kB\u001b[0m \u001b[31m867.5 kB/s\u001b[0m eta \u001b[36m0:00:00\u001b[0ma \u001b[36m0:00:01\u001b[0m\n",
      "\u001b[?25h  Preparing metadata (setup.py) ... \u001b[?25ldone\n",
      "\u001b[?25hRequirement already satisfied: hdfs<3.0.0,>=2.1.0 in /opt/conda/lib/python3.7/site-packages (from apache-beam[gcp]<3,>=2.38->tensorflow-data-validation) (2.7.0)\n",
      "Requirement already satisfied: pymongo<4.0.0,>=3.8.0 in /opt/conda/lib/python3.7/site-packages (from apache-beam[gcp]<3,>=2.38->tensorflow-data-validation) (3.12.3)\n",
      "Requirement already satisfied: requests<3.0.0,>=2.24.0 in /opt/conda/lib/python3.7/site-packages (from apache-beam[gcp]<3,>=2.38->tensorflow-data-validation) (2.28.1)\n",
      "Requirement already satisfied: typing-extensions>=3.7.0 in /opt/conda/lib/python3.7/site-packages (from apache-beam[gcp]<3,>=2.38->tensorflow-data-validation) (3.10.0.2)\n",
      "Requirement already satisfied: proto-plus<2,>=1.7.1 in /opt/conda/lib/python3.7/site-packages (from apache-beam[gcp]<3,>=2.38->tensorflow-data-validation) (1.20.6)\n",
      "Requirement already satisfied: cloudpickle<3,>=2.1.0 in /opt/conda/lib/python3.7/site-packages (from apache-beam[gcp]<3,>=2.38->tensorflow-data-validation) (2.1.0)\n",
      "Requirement already satisfied: httplib2<0.21.0,>=0.8 in /opt/conda/lib/python3.7/site-packages (from apache-beam[gcp]<3,>=2.38->tensorflow-data-validation) (0.20.4)\n",
      "Requirement already satisfied: pytz>=2018.3 in /opt/conda/lib/python3.7/site-packages (from apache-beam[gcp]<3,>=2.38->tensorflow-data-validation) (2022.1)\n",
      "Requirement already satisfied: orjson<4.0 in /opt/conda/lib/python3.7/site-packages (from apache-beam[gcp]<3,>=2.38->tensorflow-data-validation) (3.7.5)\n",
      "Requirement already satisfied: grpcio<2,>=1.33.1 in /opt/conda/lib/python3.7/site-packages (from apache-beam[gcp]<3,>=2.38->tensorflow-data-validation) (1.47.0)\n",
      "Requirement already satisfied: python-dateutil<3,>=2.8.0 in /opt/conda/lib/python3.7/site-packages (from apache-beam[gcp]<3,>=2.38->tensorflow-data-validation) (2.8.2)\n",
      "Requirement already satisfied: crcmod<2.0,>=1.7 in /opt/conda/lib/python3.7/site-packages (from apache-beam[gcp]<3,>=2.38->tensorflow-data-validation) (1.7)\n",
      "Requirement already satisfied: google-cloud-pubsublite<2,>=1.2.0 in /opt/conda/lib/python3.7/site-packages (from apache-beam[gcp]<3,>=2.38->tensorflow-data-validation) (1.4.2)\n",
      "Collecting google-cloud-vision<2,>=0.38.0\n",
      "  Downloading google_cloud_vision-1.0.2-py2.py3-none-any.whl (435 kB)\n",
      "\u001b[2K     \u001b[90m━━━━━━━━━━━━━━━━━━━━━━━━━━━━━━━━━━━━━━\u001b[0m \u001b[32m435.1/435.1 kB\u001b[0m \u001b[31m38.2 MB/s\u001b[0m eta \u001b[36m0:00:00\u001b[0m\n",
      "\u001b[?25hRequirement already satisfied: grpcio-gcp<1,>=0.2.2 in /opt/conda/lib/python3.7/site-packages (from apache-beam[gcp]<3,>=2.38->tensorflow-data-validation) (0.2.2)\n",
      "Collecting google-cloud-spanner<2,>=1.13.0\n",
      "  Downloading google_cloud_spanner-1.19.3-py2.py3-none-any.whl (255 kB)\n",
      "\u001b[2K     \u001b[90m━━━━━━━━━━━━━━━━━━━━━━━━━━━━━━━━━━━━━━\u001b[0m \u001b[32m255.6/255.6 kB\u001b[0m \u001b[31m29.3 MB/s\u001b[0m eta \u001b[36m0:00:00\u001b[0m\n",
      "\u001b[?25hCollecting google-cloud-bigtable<2,>=0.31.1\n",
      "  Downloading google_cloud_bigtable-1.7.2-py2.py3-none-any.whl (267 kB)\n",
      "\u001b[2K     \u001b[90m━━━━━━━━━━━━━━━━━━━━━━━━━━━━━━━━━━━━━━\u001b[0m \u001b[32m267.7/267.7 kB\u001b[0m \u001b[31m30.9 MB/s\u001b[0m eta \u001b[36m0:00:00\u001b[0m\n",
      "\u001b[?25hRequirement already satisfied: google-apitools<0.5.32,>=0.5.31 in /opt/conda/lib/python3.7/site-packages (from apache-beam[gcp]<3,>=2.38->tensorflow-data-validation) (0.5.31)\n",
      "Collecting google-cloud-core<2,>=0.28.1\n",
      "  Downloading google_cloud_core-1.7.3-py2.py3-none-any.whl (28 kB)\n",
      "Requirement already satisfied: google-cloud-dlp<4,>=3.0.0 in /opt/conda/lib/python3.7/site-packages (from apache-beam[gcp]<3,>=2.38->tensorflow-data-validation) (3.7.1)\n",
      "Requirement already satisfied: google-auth-httplib2<0.2.0,>=0.1.0 in /opt/conda/lib/python3.7/site-packages (from apache-beam[gcp]<3,>=2.38->tensorflow-data-validation) (0.1.0)\n",
      "Requirement already satisfied: cachetools<5,>=3.1.0 in /opt/conda/lib/python3.7/site-packages (from apache-beam[gcp]<3,>=2.38->tensorflow-data-validation) (4.2.4)\n",
      "Requirement already satisfied: google-cloud-bigquery-storage>=2.6.3 in /opt/conda/lib/python3.7/site-packages (from apache-beam[gcp]<3,>=2.38->tensorflow-data-validation) (2.13.2)\n",
      "Requirement already satisfied: google-cloud-pubsub<3,>=2.1.0 in /opt/conda/lib/python3.7/site-packages (from apache-beam[gcp]<3,>=2.38->tensorflow-data-validation) (2.13.0)\n",
      "Collecting google-cloud-datastore<2,>=1.8.0\n",
      "  Downloading google_cloud_datastore-1.15.5-py2.py3-none-any.whl (134 kB)\n",
      "\u001b[2K     \u001b[90m━━━━━━━━━━━━━━━━━━━━━━━━━━━━━━━━━━━━━━\u001b[0m \u001b[32m134.2/134.2 kB\u001b[0m \u001b[31m19.1 MB/s\u001b[0m eta \u001b[36m0:00:00\u001b[0m\n",
      "\u001b[?25hCollecting google-cloud-videointelligence<2,>=1.8.0\n",
      "  Downloading google_cloud_videointelligence-1.16.3-py2.py3-none-any.whl (183 kB)\n",
      "\u001b[2K     \u001b[90m━━━━━━━━━━━━━━━━━━━━━━━━━━━━━━━━━━━━━━\u001b[0m \u001b[32m183.9/183.9 kB\u001b[0m \u001b[31m25.0 MB/s\u001b[0m eta \u001b[36m0:00:00\u001b[0m\n",
      "\u001b[?25hCollecting google-cloud-language<2,>=1.3.0\n",
      "  Downloading google_cloud_language-1.3.2-py2.py3-none-any.whl (83 kB)\n",
      "\u001b[2K     \u001b[90m━━━━━━━━━━━━━━━━━━━━━━━━━━━━━━━━━━━━━━━━\u001b[0m \u001b[32m83.6/83.6 kB\u001b[0m \u001b[31m13.0 MB/s\u001b[0m eta \u001b[36m0:00:00\u001b[0m\n",
      "\u001b[?25hRequirement already satisfied: google-cloud-recommendations-ai<=0.2.0,>=0.1.0 in /opt/conda/lib/python3.7/site-packages (from apache-beam[gcp]<3,>=2.38->tensorflow-data-validation) (0.2.0)\n",
      "Requirement already satisfied: google-cloud-bigquery<3,>=1.6.0 in /opt/conda/lib/python3.7/site-packages (from apache-beam[gcp]<3,>=2.38->tensorflow-data-validation) (2.34.4)\n",
      "Requirement already satisfied: google-auth<3,>=1.18.0 in /opt/conda/lib/python3.7/site-packages (from apache-beam[gcp]<3,>=2.38->tensorflow-data-validation) (1.35.0)\n",
      "Collecting tensorflow-estimator<2.10.0,>=2.9.0rc0\n",
      "  Downloading tensorflow_estimator-2.9.0-py2.py3-none-any.whl (438 kB)\n",
      "\u001b[2K     \u001b[90m━━━━━━━━━━━━━━━━━━━━━━━━━━━━━━━━━━━━━━\u001b[0m \u001b[32m438.7/438.7 kB\u001b[0m \u001b[31m40.1 MB/s\u001b[0m eta \u001b[36m0:00:00\u001b[0m\n",
      "\u001b[?25hRequirement already satisfied: termcolor>=1.1.0 in /opt/conda/lib/python3.7/site-packages (from tensorflow!=2.0.*,!=2.1.*,!=2.2.*,!=2.3.*,!=2.4.*,!=2.5.*,!=2.6.*,!=2.7.*,!=2.8.*,<3,>=1.15.5->tensorflow-data-validation) (1.1.0)\n",
      "Requirement already satisfied: keras-preprocessing>=1.1.1 in /opt/conda/lib/python3.7/site-packages (from tensorflow!=2.0.*,!=2.1.*,!=2.2.*,!=2.3.*,!=2.4.*,!=2.5.*,!=2.6.*,!=2.7.*,!=2.8.*,<3,>=1.15.5->tensorflow-data-validation) (1.1.2)\n",
      "Collecting absl-py<2.0.0,>=0.9\n",
      "  Downloading absl_py-1.1.0-py3-none-any.whl (123 kB)\n",
      "\u001b[2K     \u001b[90m━━━━━━━━━━━━━━━━━━━━━━━━━━━━━━━━━━━━━━\u001b[0m \u001b[32m123.7/123.7 kB\u001b[0m \u001b[31m15.9 MB/s\u001b[0m eta \u001b[36m0:00:00\u001b[0m\n",
      "\u001b[?25hRequirement already satisfied: google-pasta>=0.1.1 in /opt/conda/lib/python3.7/site-packages (from tensorflow!=2.0.*,!=2.1.*,!=2.2.*,!=2.3.*,!=2.4.*,!=2.5.*,!=2.6.*,!=2.7.*,!=2.8.*,<3,>=1.15.5->tensorflow-data-validation) (0.2.0)\n",
      "Collecting keras<2.10.0,>=2.9.0rc0\n",
      "  Downloading keras-2.9.0-py2.py3-none-any.whl (1.6 MB)\n",
      "\u001b[2K     \u001b[90m━━━━━━━━━━━━━━━━━━━━━━━━━━━━━━━━━━━━━━━━\u001b[0m \u001b[32m1.6/1.6 MB\u001b[0m \u001b[31m73.9 MB/s\u001b[0m eta \u001b[36m0:00:00\u001b[0m\n",
      "\u001b[?25hRequirement already satisfied: wrapt>=1.11.0 in /opt/conda/lib/python3.7/site-packages (from tensorflow!=2.0.*,!=2.1.*,!=2.2.*,!=2.3.*,!=2.4.*,!=2.5.*,!=2.6.*,!=2.7.*,!=2.8.*,<3,>=1.15.5->tensorflow-data-validation) (1.12.1)\n",
      "Requirement already satisfied: packaging in /opt/conda/lib/python3.7/site-packages (from tensorflow!=2.0.*,!=2.1.*,!=2.2.*,!=2.3.*,!=2.4.*,!=2.5.*,!=2.6.*,!=2.7.*,!=2.8.*,<3,>=1.15.5->tensorflow-data-validation) (21.3)\n",
      "Collecting tensorboard<2.10,>=2.9\n",
      "  Downloading tensorboard-2.9.1-py3-none-any.whl (5.8 MB)\n",
      "\u001b[2K     \u001b[90m━━━━━━━━━━━━━━━━━━━━━━━━━━━━━━━━━━━━━━━━\u001b[0m \u001b[32m5.8/5.8 MB\u001b[0m \u001b[31m90.7 MB/s\u001b[0m eta \u001b[36m0:00:00\u001b[0m:00:01\u001b[0m\n",
      "\u001b[?25hRequirement already satisfied: astunparse>=1.6.0 in /opt/conda/lib/python3.7/site-packages (from tensorflow!=2.0.*,!=2.1.*,!=2.2.*,!=2.3.*,!=2.4.*,!=2.5.*,!=2.6.*,!=2.7.*,!=2.8.*,<3,>=1.15.5->tensorflow-data-validation) (1.6.3)\n",
      "Collecting libclang>=13.0.0\n",
      "  Downloading libclang-14.0.1-py2.py3-none-manylinux1_x86_64.whl (14.5 MB)\n",
      "\u001b[2K     \u001b[90m━━━━━━━━━━━━━━━━━━━━━━━━━━━━━━━━━━━━━━━━\u001b[0m \u001b[32m14.5/14.5 MB\u001b[0m \u001b[31m73.1 MB/s\u001b[0m eta \u001b[36m0:00:00\u001b[0m00:01\u001b[0m00:01\u001b[0m\n",
      "\u001b[?25hRequirement already satisfied: opt-einsum>=2.3.2 in /opt/conda/lib/python3.7/site-packages (from tensorflow!=2.0.*,!=2.1.*,!=2.2.*,!=2.3.*,!=2.4.*,!=2.5.*,!=2.6.*,!=2.7.*,!=2.8.*,<3,>=1.15.5->tensorflow-data-validation) (3.3.0)\n",
      "Collecting tensorflow-io-gcs-filesystem>=0.23.1\n",
      "  Downloading tensorflow_io_gcs_filesystem-0.26.0-cp37-cp37m-manylinux_2_12_x86_64.manylinux2010_x86_64.whl (2.4 MB)\n",
      "\u001b[2K     \u001b[90m━━━━━━━━━━━━━━━━━━━━━━━━━━━━━━━━━━━━━━━━\u001b[0m \u001b[32m2.4/2.4 MB\u001b[0m \u001b[31m89.1 MB/s\u001b[0m eta \u001b[36m0:00:00\u001b[0m\n",
      "\u001b[?25hRequirement already satisfied: h5py>=2.9.0 in /opt/conda/lib/python3.7/site-packages (from tensorflow!=2.0.*,!=2.1.*,!=2.2.*,!=2.3.*,!=2.4.*,!=2.5.*,!=2.6.*,!=2.7.*,!=2.8.*,<3,>=1.15.5->tensorflow-data-validation) (3.1.0)\n",
      "Requirement already satisfied: flatbuffers<2,>=1.12 in /opt/conda/lib/python3.7/site-packages (from tensorflow!=2.0.*,!=2.1.*,!=2.2.*,!=2.3.*,!=2.4.*,!=2.5.*,!=2.6.*,!=2.7.*,!=2.8.*,<3,>=1.15.5->tensorflow-data-validation) (1.12)\n",
      "Requirement already satisfied: gast<=0.4.0,>=0.2.1 in /opt/conda/lib/python3.7/site-packages (from tensorflow!=2.0.*,!=2.1.*,!=2.2.*,!=2.3.*,!=2.4.*,!=2.5.*,!=2.6.*,!=2.7.*,!=2.8.*,<3,>=1.15.5->tensorflow-data-validation) (0.4.0)\n",
      "Collecting numpy<2,>=1.16\n",
      "  Downloading numpy-1.21.6-cp37-cp37m-manylinux_2_12_x86_64.manylinux2010_x86_64.whl (15.7 MB)\n",
      "\u001b[2K     \u001b[90m━━━━━━━━━━━━━━━━━━━━━━━━━━━━━━━━━━━━━━━━\u001b[0m \u001b[32m15.7/15.7 MB\u001b[0m \u001b[31m71.9 MB/s\u001b[0m eta \u001b[36m0:00:00\u001b[0m00:01\u001b[0m00:01\u001b[0m\n",
      "\u001b[?25hRequirement already satisfied: setuptools in /opt/conda/lib/python3.7/site-packages (from tensorflow!=2.0.*,!=2.1.*,!=2.2.*,!=2.3.*,!=2.4.*,!=2.5.*,!=2.6.*,!=2.7.*,!=2.8.*,<3,>=1.15.5->tensorflow-data-validation) (59.8.0)\n",
      "Collecting protobuf<4,>=3.13\n",
      "  Downloading protobuf-3.19.4-cp37-cp37m-manylinux_2_17_x86_64.manylinux2014_x86_64.whl (1.1 MB)\n",
      "\u001b[2K     \u001b[90m━━━━━━━━━━━━━━━━━━━━━━━━━━━━━━━━━━━━━━━━\u001b[0m \u001b[32m1.1/1.1 MB\u001b[0m \u001b[31m72.0 MB/s\u001b[0m eta \u001b[36m0:00:00\u001b[0m\n",
      "\u001b[?25hRequirement already satisfied: googleapis-common-protos<2,>=1.52.0 in /opt/conda/lib/python3.7/site-packages (from tensorflow-metadata<1.10,>=1.9.0->tensorflow-data-validation) (1.56.3)\n",
      "Collecting google-api-python-client<2,>=1.7.11\n",
      "  Downloading google_api_python_client-1.12.11-py2.py3-none-any.whl (62 kB)\n",
      "\u001b[2K     \u001b[90m━━━━━━━━━━━━━━━━━━━━━━━━━━━━━━━━━━━━━━━━\u001b[0m \u001b[32m62.1/62.1 kB\u001b[0m \u001b[31m7.1 MB/s\u001b[0m eta \u001b[36m0:00:00\u001b[0m\n",
      "\u001b[?25hRequirement already satisfied: tensorflow-serving-api!=2.0.*,!=2.1.*,!=2.2.*,!=2.3.*,!=2.4.*,!=2.5.*,!=2.6.*,!=2.7.*,!=2.8.*,<3,>=1.15 in /opt/conda/lib/python3.7/site-packages (from tfx-bsl<1.10,>=1.9.0->tensorflow-data-validation) (2.9.0)\n",
      "Requirement already satisfied: wheel<1.0,>=0.23.0 in /opt/conda/lib/python3.7/site-packages (from astunparse>=1.6.0->tensorflow!=2.0.*,!=2.1.*,!=2.2.*,!=2.3.*,!=2.4.*,!=2.5.*,!=2.6.*,!=2.7.*,!=2.8.*,<3,>=1.15.5->tensorflow-data-validation) (0.37.1)\n",
      "Requirement already satisfied: google-api-core<3dev,>=1.21.0 in /opt/conda/lib/python3.7/site-packages (from google-api-python-client<2,>=1.7.11->tfx-bsl<1.10,>=1.9.0->tensorflow-data-validation) (2.8.1)\n",
      "Collecting uritemplate<4dev,>=3.0.0\n",
      "  Downloading uritemplate-3.0.1-py2.py3-none-any.whl (15 kB)\n",
      "Requirement already satisfied: oauth2client>=1.4.12 in /opt/conda/lib/python3.7/site-packages (from google-apitools<0.5.32,>=0.5.31->apache-beam[gcp]<3,>=2.38->tensorflow-data-validation) (4.1.3)\n",
      "Requirement already satisfied: fasteners>=0.14 in /opt/conda/lib/python3.7/site-packages (from google-apitools<0.5.32,>=0.5.31->apache-beam[gcp]<3,>=2.38->tensorflow-data-validation) (0.17.3)\n",
      "Requirement already satisfied: pyasn1-modules>=0.2.1 in /opt/conda/lib/python3.7/site-packages (from google-auth<3,>=1.18.0->apache-beam[gcp]<3,>=2.38->tensorflow-data-validation) (0.2.7)\n",
      "Requirement already satisfied: rsa<5,>=3.1.4 in /opt/conda/lib/python3.7/site-packages (from google-auth<3,>=1.18.0->apache-beam[gcp]<3,>=2.38->tensorflow-data-validation) (4.8)\n",
      "Requirement already satisfied: google-resumable-media<3.0dev,>=0.6.0 in /opt/conda/lib/python3.7/site-packages (from google-cloud-bigquery<3,>=1.6.0->apache-beam[gcp]<3,>=2.38->tensorflow-data-validation) (2.3.3)\n",
      "Requirement already satisfied: grpc-google-iam-v1<0.13dev,>=0.12.3 in /opt/conda/lib/python3.7/site-packages (from google-cloud-bigtable<2,>=0.31.1->apache-beam[gcp]<3,>=2.38->tensorflow-data-validation) (0.12.4)\n",
      "Requirement already satisfied: grpcio-status>=1.16.0 in /opt/conda/lib/python3.7/site-packages (from google-cloud-pubsub<3,>=2.1.0->apache-beam[gcp]<3,>=2.38->tensorflow-data-validation) (1.47.0)\n",
      "Requirement already satisfied: overrides<7.0.0,>=6.0.1 in /opt/conda/lib/python3.7/site-packages (from google-cloud-pubsublite<2,>=1.2.0->apache-beam[gcp]<3,>=2.38->tensorflow-data-validation) (6.1.0)\n",
      "Collecting google-api-core[grpc]!=2.0.*,!=2.1.*,!=2.2.*,!=2.3.0,<3.0.0dev,>=1.31.5\n",
      "  Downloading google_api_core-1.32.0-py2.py3-none-any.whl (93 kB)\n",
      "\u001b[2K     \u001b[90m━━━━━━━━━━━━━━━━━━━━━━━━━━━━━━━━━━━━━━━━\u001b[0m \u001b[32m93.6/93.6 kB\u001b[0m \u001b[31m14.6 MB/s\u001b[0m eta \u001b[36m0:00:00\u001b[0m\n",
      "\u001b[?25hRequirement already satisfied: cached-property in /opt/conda/lib/python3.7/site-packages (from h5py>=2.9.0->tensorflow!=2.0.*,!=2.1.*,!=2.2.*,!=2.3.*,!=2.4.*,!=2.5.*,!=2.6.*,!=2.7.*,!=2.8.*,<3,>=1.15.5->tensorflow-data-validation) (1.5.2)\n",
      "Requirement already satisfied: docopt in /opt/conda/lib/python3.7/site-packages (from hdfs<3.0.0,>=2.1.0->apache-beam[gcp]<3,>=2.38->tensorflow-data-validation) (0.6.2)\n",
      "Requirement already satisfied: pyparsing!=3.0.0,!=3.0.1,!=3.0.2,!=3.0.3,<4,>=2.4.2 in /opt/conda/lib/python3.7/site-packages (from httplib2<0.21.0,>=0.8->apache-beam[gcp]<3,>=2.38->tensorflow-data-validation) (3.0.9)\n",
      "Requirement already satisfied: urllib3<1.27,>=1.21.1 in /opt/conda/lib/python3.7/site-packages (from requests<3.0.0,>=2.24.0->apache-beam[gcp]<3,>=2.38->tensorflow-data-validation) (1.26.9)\n",
      "Requirement already satisfied: certifi>=2017.4.17 in /opt/conda/lib/python3.7/site-packages (from requests<3.0.0,>=2.24.0->apache-beam[gcp]<3,>=2.38->tensorflow-data-validation) (2022.6.15)\n",
      "Requirement already satisfied: idna<4,>=2.5 in /opt/conda/lib/python3.7/site-packages (from requests<3.0.0,>=2.24.0->apache-beam[gcp]<3,>=2.38->tensorflow-data-validation) (3.3)\n",
      "Requirement already satisfied: charset-normalizer<3,>=2 in /opt/conda/lib/python3.7/site-packages (from requests<3.0.0,>=2.24.0->apache-beam[gcp]<3,>=2.38->tensorflow-data-validation) (2.1.0)\n",
      "Requirement already satisfied: tensorboard-data-server<0.7.0,>=0.6.0 in /opt/conda/lib/python3.7/site-packages (from tensorboard<2.10,>=2.9->tensorflow!=2.0.*,!=2.1.*,!=2.2.*,!=2.3.*,!=2.4.*,!=2.5.*,!=2.6.*,!=2.7.*,!=2.8.*,<3,>=1.15.5->tensorflow-data-validation) (0.6.1)\n",
      "Requirement already satisfied: google-auth-oauthlib<0.5,>=0.4.1 in /opt/conda/lib/python3.7/site-packages (from tensorboard<2.10,>=2.9->tensorflow!=2.0.*,!=2.1.*,!=2.2.*,!=2.3.*,!=2.4.*,!=2.5.*,!=2.6.*,!=2.7.*,!=2.8.*,<3,>=1.15.5->tensorflow-data-validation) (0.4.6)\n",
      "Requirement already satisfied: werkzeug>=1.0.1 in /opt/conda/lib/python3.7/site-packages (from tensorboard<2.10,>=2.9->tensorflow!=2.0.*,!=2.1.*,!=2.2.*,!=2.3.*,!=2.4.*,!=2.5.*,!=2.6.*,!=2.7.*,!=2.8.*,<3,>=1.15.5->tensorflow-data-validation) (2.1.2)\n",
      "Requirement already satisfied: markdown>=2.6.8 in /opt/conda/lib/python3.7/site-packages (from tensorboard<2.10,>=2.9->tensorflow!=2.0.*,!=2.1.*,!=2.2.*,!=2.3.*,!=2.4.*,!=2.5.*,!=2.6.*,!=2.7.*,!=2.8.*,<3,>=1.15.5->tensorflow-data-validation) (3.3.7)\n",
      "Requirement already satisfied: tensorboard-plugin-wit>=1.6.0 in /opt/conda/lib/python3.7/site-packages (from tensorboard<2.10,>=2.9->tensorflow!=2.0.*,!=2.1.*,!=2.2.*,!=2.3.*,!=2.4.*,!=2.5.*,!=2.6.*,!=2.7.*,!=2.8.*,<3,>=1.15.5->tensorflow-data-validation) (1.8.1)\n",
      "  Downloading google_api_core-1.31.6-py2.py3-none-any.whl (93 kB)\n",
      "\u001b[2K     \u001b[90m━━━━━━━━━━━━━━━━━━━━━━━━━━━━━━━━━━━━━━━━\u001b[0m \u001b[32m93.3/93.3 kB\u001b[0m \u001b[31m14.7 MB/s\u001b[0m eta \u001b[36m0:00:00\u001b[0m\n",
      "\u001b[?25h  Downloading google_api_core-1.31.5-py2.py3-none-any.whl (93 kB)\n",
      "\u001b[2K     \u001b[90m━━━━━━━━━━━━━━━━━━━━━━━━━━━━━━━━━━━━━━━━\u001b[0m \u001b[32m93.3/93.3 kB\u001b[0m \u001b[31m14.2 MB/s\u001b[0m eta \u001b[36m0:00:00\u001b[0m\n",
      "\u001b[?25hINFO: pip is looking at multiple versions of google-api-core[grpc,grpcgcp] to determine which version is compatible with other requirements. This could take a while.\n",
      "Collecting google-api-core[grpc,grpcgcp]!=2.0.*,!=2.1.*,!=2.2.*,!=2.3.0,<3.0.0dev,>=1.31.5\n",
      "  Downloading google_api_core-2.8.2-py3-none-any.whl (114 kB)\n",
      "\u001b[2K     \u001b[90m━━━━━━━━━━━━━━━━━━━━━━━━━━━━━━━━━━━━━━\u001b[0m \u001b[32m114.6/114.6 kB\u001b[0m \u001b[31m17.6 MB/s\u001b[0m eta \u001b[36m0:00:00\u001b[0m\n",
      "\u001b[?25h\u001b[33mWARNING: google-api-core 2.8.2 does not provide the extra 'grpcgcp'\u001b[0m\u001b[33m\n",
      "\u001b[0mINFO: pip is looking at multiple versions of google-api-core to determine which version is compatible with other requirements. This could take a while.\n",
      "  Downloading google_api_core-2.8.1-py3-none-any.whl (114 kB)\n",
      "\u001b[2K     \u001b[90m━━━━━━━━━━━━━━━━━━━━━━━━━━━━━━━━━━━━━━\u001b[0m \u001b[32m114.7/114.7 kB\u001b[0m \u001b[31m17.8 MB/s\u001b[0m eta \u001b[36m0:00:00\u001b[0m\n",
      "\u001b[?25h  Downloading google_api_core-2.8.0-py3-none-any.whl (114 kB)\n",
      "\u001b[2K     \u001b[90m━━━━━━━━━━━━━━━━━━━━━━━━━━━━━━━━━━━━━━\u001b[0m \u001b[32m114.7/114.7 kB\u001b[0m \u001b[31m17.5 MB/s\u001b[0m eta \u001b[36m0:00:00\u001b[0m\n",
      "\u001b[?25h  Downloading google_api_core-2.7.3-py3-none-any.whl (114 kB)\n",
      "\u001b[2K     \u001b[90m━━━━━━━━━━━━━━━━━━━━━━━━━━━━━━━━━━━━━━\u001b[0m \u001b[32m114.6/114.6 kB\u001b[0m \u001b[31m17.0 MB/s\u001b[0m eta \u001b[36m0:00:00\u001b[0m\n",
      "\u001b[?25h  Downloading google_api_core-2.7.2-py3-none-any.whl (114 kB)\n",
      "\u001b[2K     \u001b[90m━━━━━━━━━━━━━━━━━━━━━━━━━━━━━━━━━━━━━━\u001b[0m \u001b[32m114.6/114.6 kB\u001b[0m \u001b[31m16.2 MB/s\u001b[0m eta \u001b[36m0:00:00\u001b[0m\n",
      "\u001b[?25h  Downloading google_api_core-2.7.1-py3-none-any.whl (114 kB)\n",
      "\u001b[2K     \u001b[90m━━━━━━━━━━━━━━━━━━━━━━━━━━━━━━━━━━━━━━\u001b[0m \u001b[32m114.7/114.7 kB\u001b[0m \u001b[31m16.6 MB/s\u001b[0m eta \u001b[36m0:00:00\u001b[0m\n",
      "\u001b[?25h  Downloading google_api_core-2.7.0-py3-none-any.whl (114 kB)\n",
      "\u001b[2K     \u001b[90m━━━━━━━━━━━━━━━━━━━━━━━━━━━━━━━━━━━━━━\u001b[0m \u001b[32m114.7/114.7 kB\u001b[0m \u001b[31m17.5 MB/s\u001b[0m eta \u001b[36m0:00:00\u001b[0m\n",
      "\u001b[?25hINFO: pip is looking at multiple versions of google-api-core[grpc,grpcgcp] to determine which version is compatible with other requirements. This could take a while.\n",
      "  Downloading google_api_core-2.6.1-py3-none-any.whl (114 kB)\n",
      "\u001b[2K     \u001b[90m━━━━━━━━━━━━━━━━━━━━━━━━━━━━━━━━━━━━━━\u001b[0m \u001b[32m114.6/114.6 kB\u001b[0m \u001b[31m17.2 MB/s\u001b[0m eta \u001b[36m0:00:00\u001b[0m\n",
      "\u001b[?25hINFO: pip is looking at multiple versions of google-api-core to determine which version is compatible with other requirements. This could take a while.\n",
      "  Downloading google_api_core-2.6.0-py2.py3-none-any.whl (114 kB)\n",
      "\u001b[2K     \u001b[90m━━━━━━━━━━━━━━━━━━━━━━━━━━━━━━━━━━━━━━\u001b[0m \u001b[32m114.6/114.6 kB\u001b[0m \u001b[31m16.4 MB/s\u001b[0m eta \u001b[36m0:00:00\u001b[0m\n",
      "\u001b[?25h  Downloading google_api_core-2.5.0-py2.py3-none-any.whl (111 kB)\n",
      "\u001b[2K     \u001b[90m━━━━━━━━━━━━━━━━━━━━━━━━━━━━━━━━━━━━━━\u001b[0m \u001b[32m111.8/111.8 kB\u001b[0m \u001b[31m16.1 MB/s\u001b[0m eta \u001b[36m0:00:00\u001b[0m\n",
      "\u001b[?25h  Downloading google_api_core-2.4.0-py2.py3-none-any.whl (111 kB)\n",
      "\u001b[2K     \u001b[90m━━━━━━━━━━━━━━━━━━━━━━━━━━━━━━━━━━━━━━\u001b[0m \u001b[32m111.7/111.7 kB\u001b[0m \u001b[31m16.9 MB/s\u001b[0m eta \u001b[36m0:00:00\u001b[0m\n",
      "\u001b[?25h  Downloading google_api_core-2.3.2-py2.py3-none-any.whl (109 kB)\n",
      "\u001b[2K     \u001b[90m━━━━━━━━━━━━━━━━━━━━━━━━━━━━━━━━━━━━━━\u001b[0m \u001b[32m109.8/109.8 kB\u001b[0m \u001b[31m17.1 MB/s\u001b[0m eta \u001b[36m0:00:00\u001b[0m\n",
      "\u001b[?25hINFO: This is taking longer than usual. You might need to provide the dependency resolver with stricter constraints to reduce runtime. See https://pip.pypa.io/warnings/backtracking for guidance. If you want to abort this run, press Ctrl + C.\n",
      "Requirement already satisfied: requests-oauthlib>=0.7.0 in /opt/conda/lib/python3.7/site-packages (from google-auth-oauthlib<0.5,>=0.4.1->tensorboard<2.10,>=2.9->tensorflow!=2.0.*,!=2.1.*,!=2.2.*,!=2.3.*,!=2.4.*,!=2.5.*,!=2.6.*,!=2.7.*,!=2.8.*,<3,>=1.15.5->tensorflow-data-validation) (1.3.1)\n",
      "Requirement already satisfied: google-crc32c<2.0dev,>=1.0 in /opt/conda/lib/python3.7/site-packages (from google-resumable-media<3.0dev,>=0.6.0->google-cloud-bigquery<3,>=1.6.0->apache-beam[gcp]<3,>=2.38->tensorflow-data-validation) (1.1.2)\n",
      "Requirement already satisfied: importlib-metadata>=4.4 in /opt/conda/lib/python3.7/site-packages (from markdown>=2.6.8->tensorboard<2.10,>=2.9->tensorflow!=2.0.*,!=2.1.*,!=2.2.*,!=2.3.*,!=2.4.*,!=2.5.*,!=2.6.*,!=2.7.*,!=2.8.*,<3,>=1.15.5->tensorflow-data-validation) (4.11.4)\n",
      "Requirement already satisfied: pyasn1>=0.1.7 in /opt/conda/lib/python3.7/site-packages (from oauth2client>=1.4.12->google-apitools<0.5.32,>=0.5.31->apache-beam[gcp]<3,>=2.38->tensorflow-data-validation) (0.4.8)\n",
      "Requirement already satisfied: typing-utils>=0.0.3 in /opt/conda/lib/python3.7/site-packages (from overrides<7.0.0,>=6.0.1->google-cloud-pubsublite<2,>=1.2.0->apache-beam[gcp]<3,>=2.38->tensorflow-data-validation) (0.1.0)\n",
      "Requirement already satisfied: cffi>=1.0.0 in /opt/conda/lib/python3.7/site-packages (from google-crc32c<2.0dev,>=1.0->google-resumable-media<3.0dev,>=0.6.0->google-cloud-bigquery<3,>=1.6.0->apache-beam[gcp]<3,>=2.38->tensorflow-data-validation) (1.15.1)\n",
      "Requirement already satisfied: zipp>=0.5 in /opt/conda/lib/python3.7/site-packages (from importlib-metadata>=4.4->markdown>=2.6.8->tensorboard<2.10,>=2.9->tensorflow!=2.0.*,!=2.1.*,!=2.2.*,!=2.3.*,!=2.4.*,!=2.5.*,!=2.6.*,!=2.7.*,!=2.8.*,<3,>=1.15.5->tensorflow-data-validation) (3.8.0)\n",
      "Requirement already satisfied: oauthlib>=3.0.0 in /opt/conda/lib/python3.7/site-packages (from requests-oauthlib>=0.7.0->google-auth-oauthlib<0.5,>=0.4.1->tensorboard<2.10,>=2.9->tensorflow!=2.0.*,!=2.1.*,!=2.2.*,!=2.3.*,!=2.4.*,!=2.5.*,!=2.6.*,!=2.7.*,!=2.8.*,<3,>=1.15.5->tensorflow-data-validation) (3.2.0)\n",
      "Requirement already satisfied: pycparser in /opt/conda/lib/python3.7/site-packages (from cffi>=1.0.0->google-crc32c<2.0dev,>=1.0->google-resumable-media<3.0dev,>=0.6.0->google-cloud-bigquery<3,>=1.6.0->apache-beam[gcp]<3,>=2.38->tensorflow-data-validation) (2.21)\n",
      "Building wheels for collected packages: pyfarmhash, dill\n",
      "  Building wheel for pyfarmhash (setup.py) ... \u001b[?25ldone\n",
      "\u001b[?25h  Created wheel for pyfarmhash: filename=pyfarmhash-0.3.2-cp37-cp37m-linux_x86_64.whl size=108630 sha256=48bb779397f74f83bd39c4cf623cad4cf004c2940667c05aa708647404f97e62\n",
      "  Stored in directory: /home/jupyter/.cache/pip/wheels/53/58/7a/3b040f3a2ee31908e3be916e32660db6db53621ce6eba838dc\n",
      "  Building wheel for dill (setup.py) ... \u001b[?25ldone\n",
      "\u001b[?25h  Created wheel for dill: filename=dill-0.3.1.1-py3-none-any.whl size=78544 sha256=faf0beb23c252384a3670b95d46a5f4fd7fa6f7ae35dd0235b6443aa22aa9876\n",
      "  Stored in directory: /home/jupyter/.cache/pip/wheels/a4/61/fd/c57e374e580aa78a45ed78d5859b3a44436af17e22ca53284f\n",
      "Successfully built pyfarmhash dill\n",
      "Installing collected packages: pyfarmhash, libclang, keras, joblib, uritemplate, tensorflow-io-gcs-filesystem, tensorflow-estimator, protobuf, numpy, dill, absl-py, pyarrow, google-api-core, tensorboard, google-cloud-core, google-api-python-client, tensorflow, google-cloud-vision, google-cloud-videointelligence, google-cloud-spanner, google-cloud-language, google-cloud-datastore, google-cloud-bigtable, tensorflow-data-validation\n",
      "  Attempting uninstall: keras\n",
      "    Found existing installation: keras 2.6.0\n",
      "    Uninstalling keras-2.6.0:\n",
      "      Successfully uninstalled keras-2.6.0\n",
      "  Attempting uninstall: joblib\n",
      "    Found existing installation: joblib 1.0.1\n",
      "    Uninstalling joblib-1.0.1:\n",
      "      Successfully uninstalled joblib-1.0.1\n",
      "  Attempting uninstall: uritemplate\n",
      "    Found existing installation: uritemplate 4.1.1\n",
      "    Uninstalling uritemplate-4.1.1:\n",
      "      Successfully uninstalled uritemplate-4.1.1\n",
      "  Attempting uninstall: tensorflow-estimator\n",
      "    Found existing installation: tensorflow-estimator 2.6.0\n",
      "    Uninstalling tensorflow-estimator-2.6.0:\n",
      "      Successfully uninstalled tensorflow-estimator-2.6.0\n",
      "  Attempting uninstall: protobuf\n",
      "    Found existing installation: protobuf 3.20.1\n",
      "    Uninstalling protobuf-3.20.1:\n",
      "      Successfully uninstalled protobuf-3.20.1\n",
      "  Attempting uninstall: numpy\n",
      "    Found existing installation: numpy 1.19.5\n",
      "    Uninstalling numpy-1.19.5:\n",
      "      Successfully uninstalled numpy-1.19.5\n",
      "  Attempting uninstall: dill\n",
      "    Found existing installation: dill 0.3.5.1\n",
      "    Uninstalling dill-0.3.5.1:\n",
      "      Successfully uninstalled dill-0.3.5.1\n",
      "  Attempting uninstall: absl-py\n",
      "    Found existing installation: absl-py 0.15.0\n",
      "    Uninstalling absl-py-0.15.0:\n",
      "      Successfully uninstalled absl-py-0.15.0\n",
      "  Attempting uninstall: pyarrow\n",
      "    Found existing installation: pyarrow 8.0.0\n",
      "    Uninstalling pyarrow-8.0.0:\n",
      "      Successfully uninstalled pyarrow-8.0.0\n",
      "  Attempting uninstall: google-api-core\n",
      "    Found existing installation: google-api-core 2.8.1\n",
      "    Uninstalling google-api-core-2.8.1:\n",
      "      Successfully uninstalled google-api-core-2.8.1\n",
      "  Attempting uninstall: tensorboard\n",
      "    Found existing installation: tensorboard 2.6.0\n",
      "    Uninstalling tensorboard-2.6.0:\n",
      "      Successfully uninstalled tensorboard-2.6.0\n",
      "  Attempting uninstall: google-cloud-core\n",
      "    Found existing installation: google-cloud-core 2.3.1\n",
      "    Uninstalling google-cloud-core-2.3.1:\n",
      "      Successfully uninstalled google-cloud-core-2.3.1\n",
      "  Attempting uninstall: google-api-python-client\n",
      "    Found existing installation: google-api-python-client 2.52.0\n",
      "    Uninstalling google-api-python-client-2.52.0:\n",
      "      Successfully uninstalled google-api-python-client-2.52.0\n",
      "  Attempting uninstall: tensorflow\n",
      "    Found existing installation: tensorflow 2.6.4\n",
      "    Uninstalling tensorflow-2.6.4:\n",
      "      Successfully uninstalled tensorflow-2.6.4\n",
      "  Attempting uninstall: google-cloud-vision\n",
      "    Found existing installation: google-cloud-vision 2.7.3\n",
      "    Uninstalling google-cloud-vision-2.7.3:\n",
      "      Successfully uninstalled google-cloud-vision-2.7.3\n",
      "  Attempting uninstall: google-cloud-videointelligence\n",
      "    Found existing installation: google-cloud-videointelligence 2.7.1\n",
      "    Uninstalling google-cloud-videointelligence-2.7.1:\n",
      "      Successfully uninstalled google-cloud-videointelligence-2.7.1\n",
      "  Attempting uninstall: google-cloud-spanner\n",
      "    Found existing installation: google-cloud-spanner 3.15.1\n",
      "    Uninstalling google-cloud-spanner-3.15.1:\n",
      "      Successfully uninstalled google-cloud-spanner-3.15.1\n",
      "  Attempting uninstall: google-cloud-language\n",
      "    Found existing installation: google-cloud-language 2.4.3\n",
      "    Uninstalling google-cloud-language-2.4.3:\n",
      "      Successfully uninstalled google-cloud-language-2.4.3\n",
      "  Attempting uninstall: google-cloud-datastore\n",
      "    Found existing installation: google-cloud-datastore 2.7.1\n",
      "    Uninstalling google-cloud-datastore-2.7.1:\n",
      "      Successfully uninstalled google-cloud-datastore-2.7.1\n",
      "  Attempting uninstall: google-cloud-bigtable\n",
      "    Found existing installation: google-cloud-bigtable 2.10.1\n",
      "    Uninstalling google-cloud-bigtable-2.10.1:\n",
      "      Successfully uninstalled google-cloud-bigtable-2.10.1\n",
      "\u001b[31mERROR: pip's dependency resolver does not currently take into account all the packages that are installed. This behaviour is the source of the following dependency conflicts.\n",
      "tensorflow-io 0.21.0 requires tensorflow<2.7.0,>=2.6.0, but you have tensorflow 2.9.1 which is incompatible.\n",
      "tensorflow-io 0.21.0 requires tensorflow-io-gcs-filesystem==0.21.0, but you have tensorflow-io-gcs-filesystem 0.26.0 which is incompatible.\n",
      "pandas-profiling 3.1.0 requires joblib~=1.0.1, but you have joblib 0.14.1 which is incompatible.\n",
      "google-cloud-storage 2.4.0 requires google-cloud-core<3.0dev,>=2.3.0, but you have google-cloud-core 1.7.3 which is incompatible.\n",
      "cloud-tpu-client 0.10 requires google-api-python-client==1.8.0, but you have google-api-python-client 1.12.11 which is incompatible.\u001b[0m\u001b[31m\n",
      "\u001b[0mSuccessfully installed absl-py-1.1.0 dill-0.3.1.1 google-api-core-1.32.0 google-api-python-client-1.12.11 google-cloud-bigtable-1.7.2 google-cloud-core-1.7.3 google-cloud-datastore-1.15.5 google-cloud-language-1.3.2 google-cloud-spanner-1.19.3 google-cloud-videointelligence-1.16.3 google-cloud-vision-1.0.2 joblib-0.14.1 keras-2.9.0 libclang-14.0.1 numpy-1.21.6 protobuf-3.19.4 pyarrow-5.0.0 pyfarmhash-0.3.2 tensorboard-2.9.1 tensorflow-2.9.1 tensorflow-data-validation-1.9.0 tensorflow-estimator-2.9.0 tensorflow-io-gcs-filesystem-0.26.0 uritemplate-3.0.1\n"
     ]
    }
   ],
   "source": [
    "!pip install pyarrow==5.0.0\n",
    "!pip install numpy==1.19.2\n",
    "!pip install tensorflow-data-validation"
   ]
  },
  {
   "cell_type": "markdown",
   "metadata": {
    "colab_type": "text",
    "id": "AsHg6SD2nO1v"
   },
   "source": [
    "**Restart the kernel (Kernel > Restart kernel > Restart).**\n",
    "\n",
    "**Re-run the above cell and proceed further.**\n",
    "\n",
    "**Note: Please ignore any incompatibility warnings and errors.**"
   ]
  },
  {
   "cell_type": "markdown",
   "metadata": {
    "id": "4qBFH1ARcSNk"
   },
   "source": [
    "## Install TFDV\n",
    "\n",
    "This will pull in all the dependencies, which will take a minute.  Please ignore the warnings or errors regarding incompatible dependency versions.\n",
    "\n"
   ]
  },
  {
   "cell_type": "code",
   "execution_count": 1,
   "metadata": {
    "id": "hPJsE5Gkdp8m"
   },
   "outputs": [
    {
     "name": "stdout",
     "output_type": "stream",
     "text": [
      "Installing TensorFlow Data Validation\n"
     ]
    }
   ],
   "source": [
    "import pandas as pd\n",
    "import tensorflow_data_validation as tfdv\n",
    "import sys\n",
    "import warnings\n",
    "warnings.filterwarnings('ignore')\n",
    "\n",
    "print('Installing TensorFlow Data Validation')\n",
    "!pip install -q tensorflow_data_validation[visualization]"
   ]
  },
  {
   "cell_type": "markdown",
   "metadata": {
    "id": "5MizoHg1DRlK"
   },
   "source": [
    "## Load the Files\n",
    "We will download our dataset from Google Cloud Storage."
   ]
  },
  {
   "cell_type": "code",
   "execution_count": 2,
   "metadata": {
    "id": "x5gfFiTeDa6Y"
   },
   "outputs": [
    {
     "name": "stdout",
     "output_type": "stream",
     "text": [
      "Here's what we downloaded:\n",
      "/tmp/tmplp__q9yh/data:\n",
      "eval  serving  train\n",
      "\n",
      "/tmp/tmplp__q9yh/data/eval:\n",
      "data.csv\n",
      "\n",
      "/tmp/tmplp__q9yh/data/serving:\n",
      "data.csv\n",
      "\n",
      "/tmp/tmplp__q9yh/data/train:\n",
      "data.csv\n"
     ]
    }
   ],
   "source": [
    "import os\n",
    "import tempfile, urllib, zipfile\n",
    "\n",
    "# Set up some globals for our file paths\n",
    "BASE_DIR = tempfile.mkdtemp()\n",
    "DATA_DIR = os.path.join(BASE_DIR, 'data')\n",
    "OUTPUT_DIR = os.path.join(BASE_DIR, 'chicago_taxi_output')\n",
    "TRAIN_DATA = os.path.join(DATA_DIR, 'train', 'data.csv')\n",
    "EVAL_DATA = os.path.join(DATA_DIR, 'eval', 'data.csv')\n",
    "SERVING_DATA = os.path.join(DATA_DIR, 'serving', 'data.csv')\n",
    "\n",
    "# Download the zip file from GCP and unzip it\n",
    "zip, headers = urllib.request.urlretrieve('https://storage.googleapis.com/artifacts.tfx-oss-public.appspot.com/datasets/chicago_data.zip')\n",
    "zipfile.ZipFile(zip).extractall(BASE_DIR)\n",
    "zipfile.ZipFile(zip).close()\n",
    "\n",
    "print(\"Here's what we downloaded:\")\n",
    "!ls -R {os.path.join(BASE_DIR, 'data')}"
   ]
  },
  {
   "cell_type": "markdown",
   "metadata": {
    "id": "IFXK2AdpSpv0"
   },
   "source": [
    "### Check the version"
   ]
  },
  {
   "cell_type": "code",
   "execution_count": 3,
   "metadata": {
    "id": "F5rPatTDSCHB"
   },
   "outputs": [
    {
     "name": "stdout",
     "output_type": "stream",
     "text": [
      "TFDV version: 1.9.0\n"
     ]
    }
   ],
   "source": [
    "import tensorflow_data_validation as tfdv\n",
    "print('TFDV version: {}'.format(tfdv.version.__version__))"
   ]
  },
  {
   "cell_type": "markdown",
   "metadata": {
    "id": "H0sFmiTbT8-x"
   },
   "source": [
    "## Compute and visualize statistics\n",
    "\n",
    "First we'll use [`tfdv.generate_statistics_from_csv`](https://www.tensorflow.org/tfx/data_validation/api_docs/python/tfdv/generate_statistics_from_csv) to compute statistics for our training data. (ignore the snappy warnings)\n",
    "\n",
    "TFDV can compute descriptive [statistics](https://github.com/tensorflow/metadata/blob/v0.6.0/tensorflow_metadata/proto/v0/statistics.proto) that provide a quick overview of the data in terms of the features that are present and the shapes of their value distributions.\n",
    "\n",
    "Internally, TFDV uses [Apache Beam](https://beam.apache.org/)'s data-parallel processing framework to scale the computation of statistics over large datasets. For applications that wish to integrate deeper with TFDV (e.g., attach statistics generation at the end of a data-generation pipeline), the API also exposes a Beam PTransform for statistics generation."
   ]
  },
  {
   "cell_type": "code",
   "execution_count": 4,
   "metadata": {
    "id": "EE481oMbT-H0"
   },
   "outputs": [
    {
     "name": "stderr",
     "output_type": "stream",
     "text": [
      "WARNING:apache_beam.runners.interactive.interactive_environment:Dependencies required for Interactive Beam PCollection visualization are not available, please use: `pip install apache-beam[interactive]` to install necessary dependencies to enable all data visualization features.\n"
     ]
    },
    {
     "data": {
      "application/javascript": [
       "\n",
       "        if (typeof window.interactive_beam_jquery == 'undefined') {\n",
       "          var jqueryScript = document.createElement('script');\n",
       "          jqueryScript.src = 'https://code.jquery.com/jquery-3.4.1.slim.min.js';\n",
       "          jqueryScript.type = 'text/javascript';\n",
       "          jqueryScript.onload = function() {\n",
       "            var datatableScript = document.createElement('script');\n",
       "            datatableScript.src = 'https://cdn.datatables.net/1.10.20/js/jquery.dataTables.min.js';\n",
       "            datatableScript.type = 'text/javascript';\n",
       "            datatableScript.onload = function() {\n",
       "              window.interactive_beam_jquery = jQuery.noConflict(true);\n",
       "              window.interactive_beam_jquery(document).ready(function($){\n",
       "                \n",
       "              });\n",
       "            }\n",
       "            document.head.appendChild(datatableScript);\n",
       "          };\n",
       "          document.head.appendChild(jqueryScript);\n",
       "        } else {\n",
       "          window.interactive_beam_jquery(document).ready(function($){\n",
       "            \n",
       "          });\n",
       "        }"
      ]
     },
     "metadata": {},
     "output_type": "display_data"
    },
    {
     "name": "stderr",
     "output_type": "stream",
     "text": [
      "WARNING:apache_beam.io.tfrecordio:Couldn't find python-snappy so the implementation of _TFRecordUtil._masked_crc32c is not as fast as it could be.\n"
     ]
    },
    {
     "name": "stdout",
     "output_type": "stream",
     "text": [
      "WARNING:tensorflow:From /opt/conda/lib/python3.7/site-packages/tensorflow_data_validation/utils/statistics_io_impl.py:91: tf_record_iterator (from tensorflow.python.lib.io.tf_record) is deprecated and will be removed in a future version.\n",
      "Instructions for updating:\n",
      "Use eager execution and: \n",
      "`tf.data.TFRecordDataset(path)`\n"
     ]
    },
    {
     "name": "stderr",
     "output_type": "stream",
     "text": [
      "WARNING:tensorflow:From /opt/conda/lib/python3.7/site-packages/tensorflow_data_validation/utils/statistics_io_impl.py:91: tf_record_iterator (from tensorflow.python.lib.io.tf_record) is deprecated and will be removed in a future version.\n",
      "Instructions for updating:\n",
      "Use eager execution and: \n",
      "`tf.data.TFRecordDataset(path)`\n"
     ]
    }
   ],
   "source": [
    "# Compute data statistics from CSV files.\n",
    "# TODO: Your code goes here\n",
    "train_stats = tfdv.generate_statistics_from_csv(data_location=TRAIN_DATA)"
   ]
  },
  {
   "cell_type": "markdown",
   "metadata": {
    "id": "JhXQSxJ2dB_6"
   },
   "source": [
    "Now let's use [`tfdv.visualize_statistics`](https://www.tensorflow.org/tfx/data_validation/api_docs/python/tfdv/visualize_statistics), which uses [Facets](https://pair-code.github.io/facets/) to create a succinct visualization of our training data:\n",
    "\n",
    "* Notice that numeric features and categorical features are visualized separately, and that charts are displayed showing the distributions for each feature.\n",
    "* Notice that features with missing or zero values display a percentage in red as a visual indicator that there may be issues with examples in those features.  The percentage is the percentage of examples that have missing or zero values for that feature.\n",
    "* Notice that there are no examples with values for `pickup_census_tract`.  This is an opportunity for dimensionality reduction!\n",
    "* Try clicking \"expand\" above the charts to change the display\n",
    "* Try hovering over bars in the charts to display bucket ranges and counts\n",
    "* Try switching between the log and linear scales, and notice how the log scale reveals much more detail about the `payment_type` categorical feature\n",
    "* Try selecting \"quantiles\" from the \"Chart to show\" menu, and hover over the markers to show the quantile percentages"
   ]
  },
  {
   "cell_type": "code",
   "execution_count": 5,
   "metadata": {
    "id": "U3tUKgh7Up3x"
   },
   "outputs": [
    {
     "data": {
      "text/html": [
       "<iframe id='facets-iframe' width=\"100%\" height=\"500px\"></iframe>\n",
       "        <script>\n",
       "        facets_iframe = document.getElementById('facets-iframe');\n",
       "        facets_html = '<script src=\"https://cdnjs.cloudflare.com/ajax/libs/webcomponentsjs/1.3.3/webcomponents-lite.js\"><\\/script><link rel=\"import\" href=\"https://raw.githubusercontent.com/PAIR-code/facets/master/facets-dist/facets-jupyter.html\"><facets-overview proto-input=\"CqqMAQoObGhzX3N0YXRpc3RpY3MQkE4azgcasgcKtgIIkE4YASABLQAAgD8ypAIaGwkAAAAAAADwPxEAAAAAAADwPyEAAAAAAECPQBobCQAAAAAAAPA/EQAAAAAAAPA/IQAAAAAAQI9AGhsJAAAAAAAA8D8RAAAAAAAA8D8hAAAAAABAj0AaGwkAAAAAAADwPxEAAAAAAADwPyEAAAAAAECPQBobCQAAAAAAAPA/EQAAAAAAAPA/IQAAAAAAQI9AGhsJAAAAAAAA8D8RAAAAAAAA8D8hAAAAAABAj0AaGwkAAAAAAADwPxEAAAAAAADwPyEAAAAAAECPQBobCQAAAAAAAPA/EQAAAAAAAPA/IQAAAAAAQI9AGhsJAAAAAAAA8D8RAAAAAAAA8D8hAAAAAABAj0AaGwkAAAAAAADwPxEAAAAAAADwPyEAAAAAAECPQCABQJBOEXsUrkfhKjZAGS5kHZnlYjNAKQAAAAAAAPA/MQAAAAAAACBAOQAAAAAAQFNAQqICGhsJAAAAAAAA8D8RMzMzMzMzIUAhAAAAAAC2s0AaGwkzMzMzMzMhQBEzMzMzMzMwQCGamZmZmRlaQBobCTMzMzMzMzBAEczMzMzMzDdAITIzMzMz82RAGhsJzMzMzMzMN0ARZmZmZmZmP0AhAAAAAAAYlEAaGwlmZmZmZmY/QBEAAAAAAIBDQCEAAAAAAPSiQBobCQAAAAAAgENAEczMzMzMTEdAISd2Yid2Yk9AGhsJzMzMzMxMR0ARmZmZmZkZS0AhKXZiJ3ZiF0AaGwmZmZmZmRlLQBFmZmZmZuZOQCHFTuzETqxlQBobCWZmZmZm5k5AEZmZmZmZWVFAIUSSJEmSJCFAGhsJmZmZmZlZUUARAAAAAABAU0Aht23btm17hkBCpAIaGwkAAAAAAADwPxEAAAAAAAAYQCEAAAAAAECPQBobCQAAAAAAABhAEQAAAAAAACBAIQAAAAAAQI9AGhsJAAAAAAAAIEARAAAAAAAAIEAhAAAAAABAj0AaGwkAAAAAAAAgQBEAAAAAAAAgQCEAAAAAAECPQBobCQAAAAAAACBAEQAAAAAAACBAIQAAAAAAQI9AGhsJAAAAAAAAIEARAAAAAAAAPEAhAAAAAABAj0AaGwkAAAAAAAA8QBEAAAAAAABAQCEAAAAAAECPQBobCQAAAAAAAEBAEQAAAAAAAEBAIQAAAAAAQI9AGhsJAAAAAAAAQEARAAAAAAAAQUAhAAAAAABAj0AaGwkAAAAAAABBQBEAAAAAAEBTQCEAAAAAAECPQCABQhcKFXBpY2t1cF9jb21tdW5pdHlfYXJlYRqmBxABGpkHCrYCCJBOGAEgAS0AAIA/MqQCGhsJAAAAAAAA8D8RAAAAAAAA8D8hAAAAAABAj0AaGwkAAAAAAADwPxEAAAAAAADwPyEAAAAAAECPQBobCQAAAAAAAPA/EQAAAAAAAPA/IQAAAAAAQI9AGhsJAAAAAAAA8D8RAAAAAAAA8D8hAAAAAABAj0AaGwkAAAAAAADwPxEAAAAAAADwPyEAAAAAAECPQBobCQAAAAAAAPA/EQAAAAAAAPA/IQAAAAAAQI9AGhsJAAAAAAAA8D8RAAAAAAAA8D8hAAAAAABAj0AaGwkAAAAAAADwPxEAAAAAAADwPyEAAAAAAECPQBobCQAAAAAAAPA/EQAAAAAAAPA/IQAAAAAAQI9AGhsJAAAAAAAA8D8RAAAAAAAA8D8hAAAAAABAj0AgAUCQThEv3UKgwnknQBk/OxgsR0EoQCARMQAAAGBmZh9AOQAAAGCP4IVAQpkCGhIRMzMzs3KAUUAheTepEgWDw0AaGwkzMzOzcoBRQBEzMzOzcoBhQCFsiaz7ErXxPxobCTMzM7NygGFAEczMzAysQGpAIWuJrPsStfE/GhsJzMzMDKxAakARMzMzs3KAcUAhbYms+xK18T8aGwkzMzOzcoBxQBEAAABgj+B1QCFtiaz7ErXxPxobCQAAAGCP4HVAEczMzAysQHpAIWmJrPsStfE/GhsJzMzMDKxAekARmZmZucigfkAhbYms+xK18T8aGwmZmZm5yKB+QBEzMzOzcoCBQCFtiaz7ErXxPxobCTMzM7NygIFAEZmZmQmBsINAIWmJrPsStfE/GhsJmZmZCYGwg0ARAAAAYI/ghUAhcYms+xK18T9CmwIaEhEAAAAAKVwTQCEAAAAAAECPQBobCQAAAAApXBNAEQAAAMDMzBVAIQAAAAAAQI9AGhsJAAAAwMzMFUARAAAAAAAAGUAhAAAAAABAj0AaGwkAAAAAAAAZQBEAAAAAAAAcQCEAAAAAAECPQBobCQAAAAAAABxAEQAAAGBmZh9AIQAAAAAAQI9AGhsJAAAAYGZmH0ARAAAAAACAIkAhAAAAAABAj0AaGwkAAAAAAIAiQBEAAACgmRkmQCEAAAAAAECPQBobCQAAAKCZGSZAEQAAAMDMTC1AIQAAAAAAQI9AGhsJAAAAwMxMLUARAAAAoJnZO0AhAAAAAABAj0AaGwkAAACgmdk7QBEAAABgj+CFQCEAAAAAAECPQCABQgYKBGZhcmUayQcasgcKtgIIkE4YASABLQAAgD8ypAIaGwkAAAAAAADwPxEAAAAAAADwPyEAAAAAAECPQBobCQAAAAAAAPA/EQAAAAAAAPA/IQAAAAAAQI9AGhsJAAAAAAAA8D8RAAAAAAAA8D8hAAAAAABAj0AaGwkAAAAAAADwPxEAAAAAAADwPyEAAAAAAECPQBobCQAAAAAAAPA/EQAAAAAAAPA/IQAAAAAAQI9AGhsJAAAAAAAA8D8RAAAAAAAA8D8hAAAAAABAj0AaGwkAAAAAAADwPxEAAAAAAADwPyEAAAAAAECPQBobCQAAAAAAAPA/EQAAAAAAAPA/IQAAAAAAQI9AGhsJAAAAAAAA8D8RAAAAAAAA8D8hAAAAAABAj0AaGwkAAAAAAADwPxEAAAAAAADwPyEAAAAAAECPQCABQJBOEYvbaABvgRpAGULC3kgnOwtAKQAAAAAAAPA/MQAAAAAAABxAOQAAAAAAAChAQqICGhsJAAAAAAAA8D8RzczMzMzMAEAhAAAAAADUlkAaGwnNzMzMzMwAQBGamZmZmZkJQCEAAAAAAEiKQBobCZqZmZmZmQlAETQzMzMzMxFAIQAAAAAAOItAGhsJNDMzMzMzEUARmpmZmZmZFUAhAAAAAADoikAaGwmamZmZmZkVQBEAAAAAAAAaQCEAAAAAAEiKQBobCQAAAAAAABpAEWdmZmZmZh5AIQAAAAAASIpAGhsJZ2ZmZmZmHkARZ2ZmZmZmIUAhAAAAAACIi0AaGwlnZmZmZmYhQBGamZmZmZkjQCEAAAAAAAiJQBobCZqZmZmZmSNAEc3MzMzMzCVAIQAAAAAAeIxAGhsJzczMzMzMJUARAAAAAAAAKEAhAAAAAABsmkBCpAIaGwkAAAAAAADwPxEAAAAAAAAAQCEAAAAAAECPQBobCQAAAAAAAABAEQAAAAAAAAhAIQAAAAAAQI9AGhsJAAAAAAAACEARAAAAAAAAEEAhAAAAAABAj0AaGwkAAAAAAAAQQBEAAAAAAAAUQCEAAAAAAECPQBobCQAAAAAAABRAEQAAAAAAABxAIQAAAAAAQI9AGhsJAAAAAAAAHEARAAAAAAAAIEAhAAAAAABAj0AaGwkAAAAAAAAgQBEAAAAAAAAiQCEAAAAAAECPQBobCQAAAAAAACJAEQAAAAAAACRAIQAAAAAAQI9AGhsJAAAAAAAAJEARAAAAAAAAJkAhAAAAAABAj0AaGwkAAAAAAAAmQBEAAAAAAAAoQCEAAAAAAECPQCABQhIKEHRyaXBfc3RhcnRfbW9udGgasAcamgcKtgIIkE4YASABLQAAgD8ypAIaGwkAAAAAAADwPxEAAAAAAADwPyEAAAAAAECPQBobCQAAAAAAAPA/EQAAAAAAAPA/IQAAAAAAQI9AGhsJAAAAAAAA8D8RAAAAAAAA8D8hAAAAAABAj0AaGwkAAAAAAADwPxEAAAAAAADwPyEAAAAAAECPQBobCQAAAAAAAPA/EQAAAAAAAPA/IQAAAAAAQI9AGhsJAAAAAAAA8D8RAAAAAAAA8D8hAAAAAABAj0AaGwkAAAAAAADwPxEAAAAAAADwPyEAAAAAAECPQBobCQAAAAAAAPA/EQAAAAAAAPA/IQAAAAAAQI9AGhsJAAAAAAAA8D8RAAAAAAAA8D8hAAAAAABAj0AaGwkAAAAAAADwPxEAAAAAAADwPyEAAAAAAECPQCABQJBOEfzL7snDQitAGf2a/bkycBpAIJ4DMQAAAAAAAC5AOQAAAAAAADdAQpkCGhIRZmZmZmZmAkAhAAAAAAAkkEAaGwlmZmZmZmYCQBFmZmZmZmYSQCEAAAAAAHB1QBobCWZmZmZmZhJAEZmZmZmZmRtAIQAAAAAAoGpAGhsJmZmZmZmZG0ARZmZmZmZmIkAhAAAAAAC4jkAaGwlmZmZmZmYiQBEAAAAAAAAnQCEAAAAAAEiLQBobCQAAAAAAACdAEZmZmZmZmStAIQAAAAAAaI5AGhsJmZmZmZmZK0ARmZmZmZkZMEAhAAAAAAB8l0AaGwmZmZmZmRkwQBFmZmZmZmYyQCEAAAAAAHySQBobCWZmZmZmZjJAETMzMzMzszRAIQAAAAAAXJRAGhsJMzMzMzOzNEARAAAAAAAAN0AhAAAAAADkmEBCmwIaEhEAAAAAAAAAQCEAAAAAAECPQBobCQAAAAAAAABAEQAAAAAAACBAIQAAAAAAQI9AGhsJAAAAAAAAIEARAAAAAAAAJEAhAAAAAABAj0AaGwkAAAAAAAAkQBEAAAAAAAAqQCEAAAAAAECPQBobCQAAAAAAACpAEQAAAAAAAC5AIQAAAAAAQI9AGhsJAAAAAAAALkARAAAAAAAAMUAhAAAAAABAj0AaGwkAAAAAAAAxQBEAAAAAAAAyQCEAAAAAAECPQBobCQAAAAAAADJAEQAAAAAAADRAIQAAAAAAQI9AGhsJAAAAAAAANEARAAAAAAAANkAhAAAAAABAj0AaGwkAAAAAAAA2QBEAAAAAAAA3QCEAAAAAAECPQCABQhEKD3RyaXBfc3RhcnRfaG91chrHBxqyBwq2AgiQThgBIAEtAACAPzKkAhobCQAAAAAAAPA/EQAAAAAAAPA/IQAAAAAAQI9AGhsJAAAAAAAA8D8RAAAAAAAA8D8hAAAAAABAj0AaGwkAAAAAAADwPxEAAAAAAADwPyEAAAAAAECPQBobCQAAAAAAAPA/EQAAAAAAAPA/IQAAAAAAQI9AGhsJAAAAAAAA8D8RAAAAAAAA8D8hAAAAAABAj0AaGwkAAAAAAADwPxEAAAAAAADwPyEAAAAAAECPQBobCQAAAAAAAPA/EQAAAAAAAPA/IQAAAAAAQI9AGhsJAAAAAAAA8D8RAAAAAAAA8D8hAAAAAABAj0AaGwkAAAAAAADwPxEAAAAAAADwPyEAAAAAAECPQBobCQAAAAAAAPA/EQAAAAAAAPA/IQAAAAAAQI9AIAFAkE4RWmQ730/NEEAZWDL9d54WAEApAAAAAAAA8D8xAAAAAAAAEEA5AAAAAAAAHEBCogIaGwkAAAAAAADwPxGamZmZmZn5PyEAAAAAAPCTQBobCZqZmZmZmfk/EZqZmZmZmQFAIQAAAAAA8JNAGhsJmpmZmZmZAUARZmZmZmZmBkAh/P//////F0AaGwlmZmZmZmYGQBEzMzMzMzMLQCEAAAAAALiUQBobCTMzMzMzMwtAEQAAAAAAABBAIQEAAAAAABhAGhsJAAAAAAAAEEARZmZmZmZmEkAhAAAAAADglEAaGwlmZmZmZmYSQBHNzMzMzMwUQCEAAAAAAOiWQBobCc3MzMzMzBRAETMzMzMzMxdAIfz//////xdAGhsJMzMzMzMzF0ARmZmZmZmZGUAhAAAAAADgmUAaGwmZmZmZmZkZQBEAAAAAAAAcQCEAAAAAALiZQEKkAhobCQAAAAAAAPA/EQAAAAAAAPA/IQAAAAAAQI9AGhsJAAAAAAAA8D8RAAAAAAAAAEAhAAAAAABAj0AaGwkAAAAAAAAAQBEAAAAAAAAIQCEAAAAAAECPQBobCQAAAAAAAAhAEQAAAAAAABBAIQAAAAAAQI9AGhsJAAAAAAAAEEARAAAAAAAAEEAhAAAAAABAj0AaGwkAAAAAAAAQQBEAAAAAAAAUQCEAAAAAAECPQBobCQAAAAAAABRAEQAAAAAAABhAIQAAAAAAQI9AGhsJAAAAAAAAGEARAAAAAAAAGEAhAAAAAABAj0AaGwkAAAAAAAAYQBEAAAAAAAAcQCEAAAAAAECPQBobCQAAAAAAABxAEQAAAAAAABxAIQAAAAAAQI9AIAFCEAoOdHJpcF9zdGFydF9kYXkazQcasgcKtgIIkE4YASABLQAAgD8ypAIaGwkAAAAAAADwPxEAAAAAAADwPyEAAAAAAECPQBobCQAAAAAAAPA/EQAAAAAAAPA/IQAAAAAAQI9AGhsJAAAAAAAA8D8RAAAAAAAA8D8hAAAAAABAj0AaGwkAAAAAAADwPxEAAAAAAADwPyEAAAAAAECPQBobCQAAAAAAAPA/EQAAAAAAAPA/IQAAAAAAQI9AGhsJAAAAAAAA8D8RAAAAAAAA8D8hAAAAAABAj0AaGwkAAAAAAADwPxEAAAAAAADwPyEAAAAAAECPQBobCQAAAAAAAPA/EQAAAAAAAPA/IQAAAAAAQI9AGhsJAAAAAAAA8D8RAAAAAAAA8D8hAAAAAABAj0AaGwkAAAAAAADwPxEAAAAAAADwPyEAAAAAAECPQCABQJBOER6FKyc+/NRBGe94Om4tzntBKQAAAIKLONRBMQAAAGRi99RBOQAAAMOjGdZBQqICGhsJAAAAgos41EERAACAiKdo1EEhpPMWQzpBkEAaGwkAAICIp2jUQREAAACPw5jUQSFTH8MILpaSQBobCQAAAI/DmNRBEQAAgJXfyNRBIVTB1PiEh5VAGhsJAACAld/I1EERAAAAnPv41EEh0fLC19mNlkAaGwkAAACc+/jUQREAAICiFynVQSEzJVMyJdqUQBobCQAAgKIXKdVBEQAAAKkzWdVBISGrteORsJNAGhsJAAAAqTNZ1UERAACAr0+J1UEhuBcnigiMk0AaGwkAAICvT4nVQREAAAC2a7nVQSF0Ec0ufOiEQBobCQAAALZrudVBEQAAgLyH6dVBIctU+GvptmxAGhsJAACAvIfp1UERAAAAw6MZ1kEhIuzF8++KaUBCpAIaGwkAAACCizjUQREAAAAgc2fUQSEAAAAAAECPQBobCQAAACBzZ9RBEQAAAOZWkNRBIQAAAAAAQI9AGhsJAAAA5laQ1EERAAAAuMyx1EEhAAAAAABAj0AaGwkAAAC4zLHUQREAAADTYNXUQSEAAAAAAECPQBobCQAAANNg1dRBEQAAAGRi99RBIQAAAAAAQI9AGhsJAAAAZGL31EERAAAAEusa1UEhAAAAAABAj0AaGwkAAAAS6xrVQREAAADwX0DVQSEAAAAAAECPQBobCQAAAPBfQNVBEQAAAMauZtVBIQAAAAAAQI9AGhsJAAAAxq5m1UERAAAABFmN1UEhAAAAAABAj0AaGwkAAAAEWY3VQREAAADDoxnWQSEAAAAAAECPQCABQhYKFHRyaXBfc3RhcnRfdGltZXN0YW1wGsoHEAEasgcKtgIIkE4YASABLQAAgD8ypAIaGwkAAAAAAADwPxEAAAAAAADwPyEAAAAAAECPQBobCQAAAAAAAPA/EQAAAAAAAPA/IQAAAAAAQI9AGhsJAAAAAAAA8D8RAAAAAAAA8D8hAAAAAABAj0AaGwkAAAAAAADwPxEAAAAAAADwPyEAAAAAAECPQBobCQAAAAAAAPA/EQAAAAAAAPA/IQAAAAAAQI9AGhsJAAAAAAAA8D8RAAAAAAAA8D8hAAAAAABAj0AaGwkAAAAAAADwPxEAAAAAAADwPyEAAAAAAECPQBobCQAAAAAAAPA/EQAAAAAAAPA/IQAAAAAAQI9AGhsJAAAAAAAA8D8RAAAAAAAA8D8hAAAAAABAj0AaGwkAAAAAAADwPxEAAAAAAADwPyEAAAAAAECPQCABQJBOEY25a52d80RAGZ+tXPzaJqM/KQAAAIBx2kRAMQAAAMA98kRAOQAAAGA7AUVAQqICGhsJAAAAgHHaREARzczMfFLeREAhc1+GHLVkFUAaGwnNzMx8Ut5EQBGamZl5M+JEQCG8xRZa60UcQBobCZqZmXkz4kRAEWZmZnYU5kRAIYEz3vHHI2pAGhsJZmZmdhTmREARMzMzc/XpREAhQuNAXx7tOEAaGwkzMzNz9elEQBEAAABw1u1EQCHiei8xFvNfQBobCQAAAHDW7URAEc3MzGy38URAIdBAvJWL2qhAGhsJzczMbLfxREARmpmZaZj1REAhPAS9jzoorkAaGwmamZlpmPVEQBFmZmZmeflEQCEg6uxd/3eVQBobCWZmZmZ5+URAETMzM2Na/URAIdscl++BaolAGhsJMzMzY1r9REARAAAAYDsBRUAhL3pKkKfQeEBCpAIaGwkAAACAcdpEQBEAAADgTvBEQCEAAAAAAECPQBobCQAAAOBO8ERAEQAAAGDE8ERAIQAAAAAAQI9AGhsJAAAAYMTwREARAAAAQEfxREAhAAAAAABAj0AaGwkAAABAR/FEQBEAAABgLvJEQCEAAAAAAECPQBobCQAAAGAu8kRAEQAAAMA98kRAIQAAAAAAQI9AGhsJAAAAwD3yREARAAAAICbzREAhAAAAAABAj0AaGwkAAAAgJvNEQBEAAAAg8/NEQCEAAAAAAECPQBobCQAAACDz80RAEQAAAOCi90RAIQAAAAAAQI9AGhsJAAAA4KL3REARAAAAwJ/7REAhAAAAAABAj0AaGwkAAADAn/tEQBEAAABgOwFFQCEAAAAAAECPQCABQhEKD3BpY2t1cF9sYXRpdHVkZRrLBxABGrIHCrYCCJBOGAEgAS0AAIA/MqQCGhsJAAAAAAAA8D8RAAAAAAAA8D8hAAAAAABAj0AaGwkAAAAAAADwPxEAAAAAAADwPyEAAAAAAECPQBobCQAAAAAAAPA/EQAAAAAAAPA/IQAAAAAAQI9AGhsJAAAAAAAA8D8RAAAAAAAA8D8hAAAAAABAj0AaGwkAAAAAAADwPxEAAAAAAADwPyEAAAAAAECPQBobCQAAAAAAAPA/EQAAAAAAAPA/IQAAAAAAQI9AGhsJAAAAAAAA8D8RAAAAAAAA8D8hAAAAAABAj0AaGwkAAAAAAADwPxEAAAAAAADwPyEAAAAAAECPQBobCQAAAAAAAPA/EQAAAAAAAPA/IQAAAAAAQI9AGhsJAAAAAAAA8D8RAAAAAAAA8D8hAAAAAABAj0AgAUCQThEYJlOHD+pVwBnUj6do2DOxPykAAADgePpVwDEAAAAgiOhVwDkAAACAqORVwEKiAhobCQAAAOB4+lXAEQAAAHBK+FXAIYNW29YUM4JAGhsJAAAAcEr4VcARAAAAABz2VcAhiZ353YuuC0AaGwkAAAAAHPZVwBEAAACQ7fNVwCGJnfndi64LQBobCQAAAJDt81XAEQAAACC/8VXAIf5ayw6QtyFAGhsJAAAAIL/xVcARAAAAsJDvVcAhf1boECwyZ0AaGwkAAACwkO9VwBEAAABAYu1VwCEuclMqkJhdQBobCQAAAEBi7VXAEQAAANAz61XAIdU9N6tLdYFAGhsJAAAA0DPrVcARAAAAYAXpVcAhaLSh0YaIpEAaGwkAAABgBelVwBEAAADw1uZVwCHkPNeUldS2QBobCQAAAPDW5lXAEQAAAICo5FXAIahyiHn5l1BAQqQCGhsJAAAA4Hj6VcARAAAAILrsVcAhAAAAAABAj0AaGwkAAAAguuxVwBEAAAAgEOpVwCEAAAAAAECPQBobCQAAACAQ6lXAEQAAACCv6VXAIQAAAAAAQI9AGhsJAAAAIK/pVcARAAAAICHpVcAhAAAAAABAj0AaGwkAAAAgIelVwBEAAAAgiOhVwCEAAAAAAECPQBobCQAAACCI6FXAEQAAAOB+6FXAIQAAAAAAQI9AGhsJAAAA4H7oVcARAAAAgD/oVcAhAAAAAABAj0AaGwkAAACAP+hVwBEAAAAgA+hVwCEAAAAAAECPQBobCQAAACAD6FXAEQAAAGC+51XAIQAAAAAAQI9AGhsJAAAAYL7nVcARAAAAgKjkVcAhAAAAAABAj0AgAUISChBwaWNrdXBfbG9uZ2l0dWRlGs4HEAEatQcKuQII3UsQswIYASABLQAAgD8ypAIaGwkAAAAAAADwPxEAAAAAAADwPyFmZmZmZkqOQBobCQAAAAAAAPA/EQAAAAAAAPA/IWZmZmZmSo5AGhsJAAAAAAAA8D8RAAAAAAAA8D8hZmZmZmZKjkAaGwkAAAAAAADwPxEAAAAAAADwPyFmZmZmZkqOQBobCQAAAAAAAPA/EQAAAAAAAPA/IWZmZmZmSo5AGhsJAAAAAAAA8D8RAAAAAAAA8D8hZmZmZmZKjkAaGwkAAAAAAADwPxEAAAAAAADwPyFmZmZmZkqOQBobCQAAAAAAAPA/EQAAAAAAAPA/IWZmZmZmSo5AGhsJAAAAAAAA8D8RAAAAAAAA8D8hZmZmZmZKjkAaGwkAAAAAAADwPxEAAAAAAADwPyFmZmZmZkqOQCABQN1LERWw+dqP80RAGc8OnCUi1aM/KQAAACDz1ERAMQAAAOBU8kRAOQAAAKAMAkVAQqICGhsJAAAAIPPUREARzczMrHXZREAhtu0SZsZhGUAaGwnNzMysddlEQBGamZk5+N1EQCGY0o96qwccQBobCZqZmTn43URAEWZmZsZ64kRAIX/acV4ThjNAGhsJZmZmxnriREARMzMzU/3mREAhfbYcHubVaEAaGwkzMzNT/eZEQBEAAADgf+tEQCEAF7WOya9WQBobCQAAAOB/60RAEc3MzGwC8ERAIfNQ9EQfb4ZAGhsJzczMbALwREARmpmZ+YT0REAhlXJdihR0tkAaGwmamZn5hPREQBFmZmaGB/lEQCGQGsh7MEiZQBobCWZmZoYH+URAETMzMxOK/URAIa1dfqJe4Y5AGhsJMzMzE4r9REARAAAAoAwCRUAheMX9Kw2ockBCpAIaGwkAAAAg89REQBEAAABg3+9EQCFmZmZmZkqOQBobCQAAAGDf70RAEQAAAGDE8ERAIWZmZmZmSo5AGhsJAAAAYMTwREARAAAAQEfxREAhZmZmZmZKjkAaGwkAAABAR/FEQBEAAABgLvJEQCFmZmZmZkqOQBobCQAAAGAu8kRAEQAAAOBU8kRAIWZmZmZmSo5AGhsJAAAA4FTyREARAAAAICbzREAhZmZmZmZKjkAaGwkAAAAgJvNEQBEAAABgavREQCFmZmZmZkqOQBobCQAAAGBq9ERAEQAAAOCi90RAIWZmZmZmSo5AGhsJAAAA4KL3REARAAAAoKH6REAhZmZmZmZKjkAaGwkAAACgofpEQBEAAACgDAJFQCFmZmZmZkqOQCABQhIKEGRyb3BvZmZfbGF0aXR1ZGUazwcQARq1Bwq5AgjdSxCzAhgBIAEtAACAPzKkAhobCQAAAAAAAPA/EQAAAAAAAPA/IWZmZmZmSo5AGhsJAAAAAAAA8D8RAAAAAAAA8D8hZmZmZmZKjkAaGwkAAAAAAADwPxEAAAAAAADwPyFmZmZmZkqOQBobCQAAAAAAAPA/EQAAAAAAAPA/IWZmZmZmSo5AGhsJAAAAAAAA8D8RAAAAAAAA8D8hZmZmZmZKjkAaGwkAAAAAAADwPxEAAAAAAADwPyFmZmZmZkqOQBobCQAAAAAAAPA/EQAAAAAAAPA/IWZmZmZmSo5AGhsJAAAAAAAA8D8RAAAAAAAA8D8hZmZmZmZKjkAaGwkAAAAAAADwPxEAAAAAAADwPyFmZmZmZkqOQBobCQAAAAAAAPA/EQAAAAAAAPA/IWZmZmZmSo5AIAFA3UsR6NfFwdnpVcAZT1/TO0+QrD8pAAAA4Hj6VcAxAAAAYKXoVcA5AAAAoJ7iVcBCogIaGwkAAADgePpVwBEAAABAFvhVwCGX7yHGYzZ1QBobCQAAAEAW+FXAEQAAAKCz9VXAIeujM7qHvxZAGhsJAAAAoLP1VcARAAAAAFHzVcAhxMOmAOGvLEAaGwkAAAAAUfNVwBEAAABg7vBVwCFTxYL2J+FOQBobCQAAAGDu8FXAEQAAAMCL7lXAIeQKYXpLA2FAGhsJAAAAwIvuVcARAAAAICnsVcAhbZ5Oki8TeEAaGwkAAAAgKexVwBEAAACAxulVwCF3/xDYvumgQBobCQAAAIDG6VXAEQAAAOBj51XAIYji1eLW3rhAGhsJAAAA4GPnVcARAAAAQAHlVcAhxU1pAfxzaUAaGwkAAABAAeVVwBEAAACgnuJVwCGsgLjAOlguQEKkAhobCQAAAOB4+lXAEQAAAEAA7FXAIWZmZmZmSo5AGhsJAAAAQADsVcARAAAAIHfqVcAhZmZmZmZKjkAaGwkAAAAgd+pVwBEAAADg+elVwCFmZmZmZkqOQBobCQAAAOD56VXAEQAAAMAj6VXAIWZmZmZmSo5AGhsJAAAAwCPpVcARAAAAYKXoVcAhZmZmZmZKjkAaGwkAAABgpehVwBEAAADgfuhVwCFmZmZmZkqOQBobCQAAAOB+6FXAEQAAAEBD6FXAIWZmZmZmSo5AGhsJAAAAQEPoVcARAAAAIAPoVcAhZmZmZmZKjkAaGwkAAAAgA+hVwBEAAACguudVwCFmZmZmZkqOQBobCQAAAKC651XAEQAAAKCe4lXAIWZmZmZmSo5AIAFCEwoRZHJvcG9mZl9sb25naXR1ZGUaiQcQARr2Bgq2AgiQThgBIAEtAACAPzKkAhobCQAAAAAAAPA/EQAAAAAAAPA/IQAAAAAAQI9AGhsJAAAAAAAA8D8RAAAAAAAA8D8hAAAAAABAj0AaGwkAAAAAAADwPxEAAAAAAADwPyEAAAAAAECPQBobCQAAAAAAAPA/EQAAAAAAAPA/IQAAAAAAQI9AGhsJAAAAAAAA8D8RAAAAAAAA8D8hAAAAAABAj0AaGwkAAAAAAADwPxEAAAAAAADwPyEAAAAAAECPQBobCQAAAAAAAPA/EQAAAAAAAPA/IQAAAAAAQI9AGhsJAAAAAAAA8D8RAAAAAAAA8D8hAAAAAABAj0AaGwkAAAAAAADwPxEAAAAAAADwPyEAAAAAAECPQBobCQAAAAAAAPA/EQAAAAAAAPA/IQAAAAAAQI9AIAFAkE4RyAe9bwcKBkAZJqAy/tinGUAgtRUxAAAAwMzM7D85AAAAAADgZ0BCmQIaEhGamZmZmRkzQCEIAHgAgE7DQBobCZqZmZmZGTNAEZqZmZmZGUNAIbAYxzUc51dAGhsJmpmZmZkZQ0ARZ2ZmZmamTEAhjuM4juM4FUAaGwlnZmZmZqZMQBGamZmZmRlTQCGG9M+G9M8RQBobCZqZmZmZGVNAEQAAAAAA4FdAIYhArolArvk/GhsJAAAAAADgV0ARZ2ZmZmamXEAhjUCuiUCu+T8aGwlnZmZmZqZcQBFnZmZmZrZgQCGNQK6JQK75PxobCWdmZmZmtmBAEZqZmZmZGWNAIYhArolArvk/GhsJmpmZmZkZY0ARzczMzMx8ZUAhiECuiUCu+T8aGwnNzMzMzHxlQBEAAAAAAOBnQCGIQK6JQK75P0L3ARoJIQAAAAAAQI9AGgkhAAAAAABAj0AaEhEAAACgmZm5PyEAAAAAAECPQBobCQAAAKCZmbk/EQAAAEAzM+M/IQAAAAAAQI9AGhsJAAAAQDMz4z8RAAAAwMzM7D8hAAAAAABAj0AaGwkAAADAzMzsPxEAAADAzMz0PyEAAAAAAECPQBobCQAAAMDMzPQ/EQAAAGBmZv4/IQAAAAAAQI9AGhsJAAAAYGZm/j8RAAAAYGZmCkAhAAAAAABAj0AaGwkAAABgZmYKQBEAAABAMzMdQCEAAAAAAECPQBobCQAAAEAzMx1AEQAAAAAA4GdAIQAAAAAAQI9AIAFCDAoKdHJpcF9taWxlcxogEAIiBQoDEJBOQhUKE3BpY2t1cF9jZW5zdXNfdHJhY3Qa0AcatQcKuQII7DcQpBYYASABLQAAgD8ypAIaGwkAAAAAAADwPxEAAAAAAADwPyFmZmZmZlaGQBobCQAAAAAAAPA/EQAAAAAAAPA/IWZmZmZmVoZAGhsJAAAAAAAA8D8RAAAAAAAA8D8hZmZmZmZWhkAaGwkAAAAAAADwPxEAAAAAAADwPyFmZmZmZlaGQBobCQAAAAAAAPA/EQAAAAAAAPA/IWZmZmZmVoZAGhsJAAAAAAAA8D8RAAAAAAAA8D8hZmZmZmZWhkAaGwkAAAAAAADwPxEAAAAAAADwPyFmZmZmZlaGQBobCQAAAAAAAPA/EQAAAAAAAPA/IWZmZmZmVoZAGhsJAAAAAAAA8D8RAAAAAAAA8D8hZmZmZmZWhkAaGwkAAAAAAADwPxEAAAAAAADwPyFmZmZmZlaGQCABQOw3EfDpxTktuQ9CGcM4O4JGMRRBKQAAyLwEuQ9CMQAAoPIguQ9COQAAICJ7uQ9CQqICGhsJAADIvAS5D0IRMzO3kxC5D0IhqZakJK5Fq0AaGwkzM7eTELkPQhFmZqZqHLkPQiEsS3+Cie0lQBobCWZmpmocuQ9CEZqZlUEouQ9CIQ4zFG9plYdAGhsJmpmVQSi5D0IRzcyEGDS5D0IhDYm5yE7ojUAaGwnNzIQYNLkPQhEAAHTvP7kPQiFEqYt038UYQBobCQAAdO8/uQ9CETMzY8ZLuQ9CIfuJJaCb1v4/GhsJMzNjxku5D0IRZmZSnVe5D0Ih+4kloJvW/j8aGwlmZlKdV7kPQhGamUF0Y7kPQiHM0Egos60nQBobCZqZQXRjuQ9CEc3MMEtvuQ9CIX+jn6U/VZhAGhsJzcwwS2+5D0IRAAAgInu5D0Ih54lYOoE0dkBCpAIaGwkAAMi8BLkPQhEAAOArDLkPQiFmZmZmZlaGQBobCQAA4CsMuQ9CEQAAiGcNuQ9CIWZmZmZmVoZAGhsJAACIZw25D0IRAADYbQ25D0IhZmZmZmZWhkAaGwkAANhtDbkPQhEAACB3DbkPQiFmZmZmZlaGQBobCQAAIHcNuQ9CEQAAoPIguQ9CIWZmZmZmVoZAGhsJAACg8iC5D0IRAAAgkSq5D0IhZmZmZmZWhkAaGwkAACCRKrkPQhEAAMCgKrkPQiFmZmZmZlaGQBobCQAAwKAquQ9CEQAA4OtpuQ9CIWZmZmZmVoZAGhsJAADg62m5D0IRAADg62m5D0IhZmZmZmZWhkAaGwkAAODrabkPQhEAACAie7kPQiFmZmZmZlaGQCABQhYKFGRyb3BvZmZfY2Vuc3VzX3RyYWN0Gt4EEAIiyQQKtgIIkE4YASABLQAAgD8ypAIaGwkAAAAAAADwPxEAAAAAAADwPyEAAAAAAECPQBobCQAAAAAAAPA/EQAAAAAAAPA/IQAAAAAAQI9AGhsJAAAAAAAA8D8RAAAAAAAA8D8hAAAAAABAj0AaGwkAAAAAAADwPxEAAAAAAADwPyEAAAAAAECPQBobCQAAAAAAAPA/EQAAAAAAAPA/IQAAAAAAQI9AGhsJAAAAAAAA8D8RAAAAAAAA8D8hAAAAAABAj0AaGwkAAAAAAADwPxEAAAAAAADwPyEAAAAAAECPQBobCQAAAAAAAPA/EQAAAAAAAPA/IQAAAAAAQI9AGhsJAAAAAAAA8D8RAAAAAAAA8D8hAAAAAABAj0AaGwkAAAAAAADwPxEAAAAAAADwPyEAAAAAAECPQCABQJBOEAYaDxIEQ2FzaBkAAAAAAL65QBoWEgtDcmVkaXQgQ2FyZBkAAAAAAPqpQBoUEglObyBDaGFyZ2UZAAAAAAAATkAaEhIHVW5rbm93bhkAAAAAAAA2QBoQEgVQY2FyZBkAAAAAAAAAQBoSEgdEaXNwdXRlGQAAAAAAAPA/Jc6qy0AqjQEKDyIEQ2FzaCkAAAAAAL65QAoaCAEQASILQ3JlZGl0IENhcmQpAAAAAAD6qUAKGAgCEAIiCU5vIENoYXJnZSkAAAAAAABOQAoWCAMQAyIHVW5rbm93bikAAAAAAAA2QAoUCAQQBCIFUGNhcmQpAAAAAAAAAEAKFggFEAUiB0Rpc3B1dGUpAAAAAAAA8D9CDgoMcGF5bWVudF90eXBlGqcXEAIilxcKuQIInjMQ8hoYASABLQAAgD8ypAIaGwkAAAAAAADwPxEAAAAAAADwPyFmZmZmZn6EQBobCQAAAAAAAPA/EQAAAAAAAPA/IWZmZmZmfoRAGhsJAAAAAAAA8D8RAAAAAAAA8D8hZmZmZmZ+hEAaGwkAAAAAAADwPxEAAAAAAADwPyFmZmZmZn6EQBobCQAAAAAAAPA/EQAAAAAAAPA/IWZmZmZmfoRAGhsJAAAAAAAA8D8RAAAAAAAA8D8hZmZmZmZ+hEAaGwkAAAAAAADwPxEAAAAAAADwPyFmZmZmZn6EQBobCQAAAAAAAPA/EQAAAAAAAPA/IWZmZmZmfoRAGhsJAAAAAAAA8D8RAAAAAAAA8D8hZmZmZmZ+hEAaGwkAAAAAAADwPxEAAAAAAADwPyFmZmZmZn6EQCABQJ4zEC4aJBIZVGF4aSBBZmZpbGlhdGlvbiBTZXJ2aWNlcxkAAAAAAMqqQBokEhlEaXNwYXRjaCBUYXhpIEFmZmlsaWF0aW9uGQAAAAAA/JBAGiwSIUJsdWUgUmliYm9uIFRheGkgQXNzb2NpYXRpb24gSW5jLhkAAAAAADiHQBoiEhdDaG9pY2UgVGF4aSBBc3NvY2lhdGlvbhkAAAAAALCCQBojEhhOb3J0aHdlc3QgTWFuYWdlbWVudCBMTEMZAAAAAABAd0AaIBIVS09BTSBUYXhpIEFzc29jaWF0aW9uGQAAAAAAIGNAGh4SE1RvcCBDYWIgQWZmaWxpYXRpb24ZAAAAAAAAVEAaMxIoQ2hpY2FnbyBFbGl0ZSBDYWIgQ29ycC4gKENoaWNhZ28gQ2FycmlhZxkAAAAAAAAyQBooEh1DaGljYWdvIE1lZGFsbGlvbiBMZWFzaW5nIElOQxkAAAAAAAAwQBonEhxDaGljYWdvIE1lZGFsbGlvbiBNYW5hZ2VtZW50GQAAAAAAACZAGiISF0NoaWNhZ28gRWxpdGUgQ2FiIENvcnAuGQAAAAAAABhAGiISFzQxOTcgLSA0MTg0MiBSb3lhbCBTdGFyGQAAAAAAABBAGi0SIjM2MjMgLSA3MjIyMiBBcnJpbmd0b24gRW50ZXJwcmlzZXMZAAAAAAAACEAaJhIbMDExOCAtIDQyMTExIEdvZGZyZXkgUy5Bd2lyGQAAAAAAAAhAGiMSGDUwMDYgLSAzOTI2MSBTYWxpZnUgQmF3YRkAAAAAAAAAQBomEhsxMDg1IC0gNzIzMTIgTiBhbmQgVyBDYWIgQ28ZAAAAAAAAAEAaKhIfMDY5NCAtIDU5MjgwIENoaW5lc2NvIFRyYW5zIEluYxkAAAAAAAAAQBobEhBDICYgRCBDYWIgQ28gSW5jGQAAAAAAAPA/GhwSETY3NDMgLSBMdWhhayBDb3JwGQAAAAAAAPA/GiESFjY0ODggLSA4MzI4NyBadWhhIFRheGkZAAAAAAAA8D8lz2DMQSrODgokIhlUYXhpIEFmZmlsaWF0aW9uIFNlcnZpY2VzKQAAAAAAyqpACigIARABIhlEaXNwYXRjaCBUYXhpIEFmZmlsaWF0aW9uKQAAAAAA/JBACjAIAhACIiFCbHVlIFJpYmJvbiBUYXhpIEFzc29jaWF0aW9uIEluYy4pAAAAAAA4h0AKJggDEAMiF0Nob2ljZSBUYXhpIEFzc29jaWF0aW9uKQAAAAAAsIJACicIBBAEIhhOb3J0aHdlc3QgTWFuYWdlbWVudCBMTEMpAAAAAABAd0AKJAgFEAUiFUtPQU0gVGF4aSBBc3NvY2lhdGlvbikAAAAAACBjQAoiCAYQBiITVG9wIENhYiBBZmZpbGlhdGlvbikAAAAAAABUQAo3CAcQByIoQ2hpY2FnbyBFbGl0ZSBDYWIgQ29ycC4gKENoaWNhZ28gQ2FycmlhZykAAAAAAAAyQAosCAgQCCIdQ2hpY2FnbyBNZWRhbGxpb24gTGVhc2luZyBJTkMpAAAAAAAAMEAKKwgJEAkiHENoaWNhZ28gTWVkYWxsaW9uIE1hbmFnZW1lbnQpAAAAAAAAJkAKJggKEAoiF0NoaWNhZ28gRWxpdGUgQ2FiIENvcnAuKQAAAAAAABhACiYICxALIhc0MTk3IC0gNDE4NDIgUm95YWwgU3RhcikAAAAAAAAQQAoxCAwQDCIiMzYyMyAtIDcyMjIyIEFycmluZ3RvbiBFbnRlcnByaXNlcykAAAAAAAAIQAoqCA0QDSIbMDExOCAtIDQyMTExIEdvZGZyZXkgUy5Bd2lyKQAAAAAAAAhACicIDhAOIhg1MDA2IC0gMzkyNjEgU2FsaWZ1IEJhd2EpAAAAAAAAAEAKKggPEA8iGzEwODUgLSA3MjMxMiBOIGFuZCBXIENhYiBDbykAAAAAAAAAQAouCBAQECIfMDY5NCAtIDU5MjgwIENoaW5lc2NvIFRyYW5zIEluYykAAAAAAAAAQAofCBEQESIQQyAmIEQgQ2FiIENvIEluYykAAAAAAADwPwogCBIQEiIRNjc0MyAtIEx1aGFrIENvcnApAAAAAAAA8D8KJQgTEBMiFjY0ODggLSA4MzI4NyBadWhhIFRheGkpAAAAAAAA8D8KJggUEBQiFzU5OTcgLSBBVyBTZXJ2aWNlcyBJbmMuKQAAAAAAAPA/CiwIFRAVIh01OTk3IC0gNjUyODMgQVcgU2VydmljZXMgSW5jLikAAAAAAADwPwosCBYQFiIdNTg3NCAtIDczNjI4IFNlcmdleSBDYWIgQ29ycC4pAAAAAAAA8D8KIggXEBciEzU4NjQgLSBUaG9tYXMgT3d1c3UpAAAAAAAA8D8KKAgYEBgiGTU4NjQgLSA3MzYxNCBUaG9tYXMgT3d1c3UpAAAAAAAA8D8KIggZEBkiEzU4NSAtIFZhbGxleSBDYWIgQ28pAAAAAAAA8D8KIggaEBoiEzU3MjQgLSBLWVZJIENhYiBJbmMpAAAAAAAA8D8KIwgbEBsiFDUxMjkgLSBNZW5naXN0aSBUYXhpKQAAAAAAAPA/CikIHBAcIho1MTI5IC0gOTg3NTUgTWVuZ2lzdGkgVGF4aSkAAAAAAADwPwobCB0QHSIMNTEyOSAtIDg3MTI4KQAAAAAAAPA/Ch8IHhAeIhA1MDc0IC0gQWh6bWkgSW5jKQAAAAAAAPA/CiUIHxAfIhY1MDc0IC0gNTQwMDIgQWh6bWkgSW5jKQAAAAAAAPA/CiEIIBAgIhI1MDA2IC0gU2FsaWZ1IEJhd2EpAAAAAAAA8D8KHQghECEiDjQ2MjMgLSBKYXkgS2ltKQAAAAAAAPA/CiYIIhAiIhc0NjE1IC0gVHlyb25lIEhlbmRlcnNvbikAAAAAAADwPwosCCMQIyIdNDYxNSAtIDgzNTAzIFR5cm9uZSBIZW5kZXJzb24pAAAAAAAA8D8KJQgkECQiFjQwNTMgLSBBZHdhciBILiBOaWtvbGEpAAAAAAAA8D8KIAglECUiETM4OTcgLSBJbGllIE1hbGVjKQAAAAAAAPA/CiQIJhAmIhUzMzg1IC0gMjMyMTAgRW1hbiBDYWIpAAAAAAAA8D8KKwgnECciHDMyNTMgLSA5MTEzOCBHYWl0aGVyIENhYiBDby4pAAAAAAAA8D8KJAgoECgiFTMyMDEgLSBDSUQgQ2FiIENvIEluYykAAAAAAADwPwokCCkQKSIVMzIwMSAtIEMmRCBDYWIgQ28gSW5jKQAAAAAAAPA/Ci0IKhAqIh4zMTUyIC0gOTcyODQgQ3J5c3RhbCBBYmVybmF0aHkpAAAAAAAA8D8KKAgrECsiGTMwMTEgLSA2NjMwOCBKQkwgQ2FiIEluYy4pAAAAAAAA8D8KLQgsECwiHjI4MDkgLSA5NTQ3NCBDICYgRCBDYWIgQ28gSW5jLikAAAAAAADwPwomCC0QLSIXMjczMyAtIDc0NjAwIEJlbm55IEpvbmEpAAAAAAAA8D9CCQoHY29tcGFueRqtBxqaBwq2AgiQThgBIAEtAACAPzKkAhobCQAAAAAAAPA/EQAAAAAAAPA/IQAAAAAAQI9AGhsJAAAAAAAA8D8RAAAAAAAA8D8hAAAAAABAj0AaGwkAAAAAAADwPxEAAAAAAADwPyEAAAAAAECPQBobCQAAAAAAAPA/EQAAAAAAAPA/IQAAAAAAQI9AGhsJAAAAAAAA8D8RAAAAAAAA8D8hAAAAAABAj0AaGwkAAAAAAADwPxEAAAAAAADwPyEAAAAAAECPQBobCQAAAAAAAPA/EQAAAAAAAPA/IQAAAAAAQI9AGhsJAAAAAAAA8D8RAAAAAAAA8D8hAAAAAABAj0AaGwkAAAAAAADwPxEAAAAAAADwPyEAAAAAAECPQBobCQAAAAAAAPA/EQAAAAAAAPA/IQAAAAAAQI9AIAFAkE4RO99PjRdxiEAZOd5pv5kUkUAgxQIxAAAAAADggEA5AAAAAICb8UBCmQIaEhEAAAAAACy8QCG0eZ/iEoPDQBobCQAAAAAALLxAEQAAAAAALMxAIQkpiKz2g/E/GhsJAAAAAAAszEARAAAAAAAh1UAhCSmIrPaD8T8aGwkAAAAAACHVQBEAAAAAACzcQCEJKYis9oPxPxobCQAAAAAALNxAEQAAAACAm+FAIQkpiKz2g/E/GhsJAAAAAICb4UARAAAAAAAh5UAhCSmIrPaD8T8aGwkAAAAAACHlQBEAAAAAgKboQCEJKYis9oPxPxobCQAAAACApuhAEQAAAAAALOxAIQkpiKz2g/E/GhsJAAAAAAAs7EARAAAAAICx70AhCSmIrPaD8T8aGwkAAAAAgLHvQBEAAAAAgJvxQCEJKYis9oPxP0KbAhoSEQAAAAAAgGZAIQAAAAAAQI9AGhsJAAAAAACAZkARAAAAAADAckAhAAAAAABAj0AaGwkAAAAAAMByQBEAAAAAAIB2QCEAAAAAAECPQBobCQAAAAAAgHZAEQAAAAAAAH5AIQAAAAAAQI9AGhsJAAAAAAAAfkARAAAAAADggEAhAAAAAABAj0AaGwkAAAAAAOCAQBEAAAAAAKCEQCEAAAAAAECPQBobCQAAAAAAoIRAEQAAAAAAQIpAIQAAAAAAQI9AGhsJAAAAAABAikARAAAAAADgkEAhAAAAAABAj0AaGwkAAAAAAOCQQBEAAAAAAGCYQCEAAAAAAECPQBobCQAAAAAAYJhAEQAAAACAm/FAIQAAAAAAQI9AIAFCDgoMdHJpcF9zZWNvbmRzGtIHGrUHCrkCCM1LEMMCGAEgAS0AAIA/MqQCGhsJAAAAAAAA8D8RAAAAAAAA8D8hmpmZmZk9jkAaGwkAAAAAAADwPxEAAAAAAADwPyGamZmZmT2OQBobCQAAAAAAAPA/EQAAAAAAAPA/IZqZmZmZPY5AGhsJAAAAAAAA8D8RAAAAAAAA8D8hmpmZmZk9jkAaGwkAAAAAAADwPxEAAAAAAADwPyGamZmZmT2OQBobCQAAAAAAAPA/EQAAAAAAAPA/IZqZmZmZPY5AGhsJAAAAAAAA8D8RAAAAAAAA8D8hmpmZmZk9jkAaGwkAAAAAAADwPxEAAAAAAADwPyGamZmZmT2OQBobCQAAAAAAAPA/EQAAAAAAAPA/IZqZmZmZPY5AGhsJAAAAAAAA8D8RAAAAAAAA8D8hmpmZmZk9jkAgAUDNSxF5zo/UEdY0QBk0zPNzxKMxQCkAAAAAAADwPzEAAAAAAAAgQDkAAAAAAEBTQEKiAhobCQAAAAAAAPA/ETMzMzMzMyFAIWkAb4EU87JAGhsJMzMzMzMzIUARMzMzMzMzMEAh2T15WKg7Y0AaGwkzMzMzMzMwQBHMzMzMzMw3QCFyRpT2BudxQBobCczMzMzMzDdAEWZmZmZmZj9AIVHaG3xh1JdAGhsJZmZmZmZmP0ARAAAAAACAQ0Ah+zpwzsiGoEAaGwkAAAAAAIBDQBHMzMzMzExHQCG4o76qdgRXQBobCczMzMzMTEdAEZmZmZmZGUtAIfN4m7nE8iZAGhsJmZmZmZkZS0ARZmZmZmbmTkAhM4rlllbxYkAaGwlmZmZmZuZOQBGZmZmZmVlRQCGo6tKsWZQqQBobCZmZmZmZWVFAEQAAAAAAQFNAIczx93gOzH1AQqQCGhsJAAAAAAAA8D8RAAAAAAAAGEAhmZmZmZk9jkAaGwkAAAAAAAAYQBEAAAAAAAAcQCGZmZmZmT2OQBobCQAAAAAAABxAEQAAAAAAACBAIZmZmZmZPY5AGhsJAAAAAAAAIEARAAAAAAAAIEAhmZmZmZk9jkAaGwkAAAAAAAAgQBEAAAAAAAAgQCGZmZmZmT2OQBobCQAAAAAAACBAEQAAAAAAADpAIZmZmZmZPY5AGhsJAAAAAAAAOkARAAAAAAAAPEAhmZmZmZk9jkAaGwkAAAAAAAA8QBEAAAAAAABAQCGZmZmZmT2OQBobCQAAAAAAAEBAEQAAAAAAgEBAIZmZmZmZPY5AGhsJAAAAAACAQEARAAAAAABAU0AhmZmZmZk9jkAgAUIYChZkcm9wb2ZmX2NvbW11bml0eV9hcmVhGrIGEAEapQYKtgIIkE4YASABLQAAgD8ypAIaGwkAAAAAAADwPxEAAAAAAADwPyEAAAAAAECPQBobCQAAAAAAAPA/EQAAAAAAAPA/IQAAAAAAQI9AGhsJAAAAAAAA8D8RAAAAAAAA8D8hAAAAAABAj0AaGwkAAAAAAADwPxEAAAAAAADwPyEAAAAAAECPQBobCQAAAAAAAPA/EQAAAAAAAPA/IQAAAAAAQI9AGhsJAAAAAAAA8D8RAAAAAAAA8D8hAAAAAABAj0AaGwkAAAAAAADwPxEAAAAAAADwPyEAAAAAAECPQBobCQAAAAAAAPA/EQAAAAAAAPA/IQAAAAAAQI9AGhsJAAAAAAAA8D8RAAAAAAAA8D8hAAAAAABAj0AaGwkAAAAAAADwPxEAAAAAAADwPyEAAAAAAECPQCABQJBOEWorrnkcRvE/GfKHaICEJAFAILA1OQAAAMDMjDpAQpkCGhIRmpmZmXA9BUAh7//n/n+pwEAaGwmamZmZcD0FQBGamZmZcD0VQCH/APAPAKmMQBobCZqZmZlwPRVAEWdmZuYo3B9AIej7X77/MXRAGhsJZ2Zm5ijcH0ARmpmZmXA9JUAhdUzjYrelZkAaGwmamZmZcD0lQBEAAADAzIwqQCEB4Y0ZSZY8QBobCQAAAMDMjCpAEWdmZuYo3C9AIZLZgqlClCNAGhsJZ2Zm5ijcL0ARZ2ZmhsKVMkAhTSYtjb1jAkAaGwlnZmaGwpUyQBGamZmZcD01QCFJJi2NvWMCQBobCZqZmZlwPTVAEc3MzKwe5TdAIUkmLY29YwJAGhsJzczMrB7lN0ARAAAAwMyMOkAhSSYtjb1jAkBCrwEaCSEAAAAAAECPQBoJIQAAAAAAQI9AGgkhAAAAAABAj0AaCSEAAAAAAECPQBoJIQAAAAAAQI9AGgkhAAAAAABAj0AaEhEAAAAAAADwPyEAAAAAAECPQBobCQAAAAAAAPA/EQAAAAAAAABAIQAAAAAAQI9AGhsJAAAAAAAAAEARAAAAQArXCUAhAAAAAABAj0AaGwkAAABACtcJQBEAAADAzIw6QCEAAAAAAECPQCABQgYKBHRpcHM=\"></facets-overview>';\n",
       "        facets_iframe.srcdoc = facets_html;\n",
       "         facets_iframe.id = \"\";\n",
       "         setTimeout(() => {\n",
       "           facets_iframe.setAttribute('height', facets_iframe.contentWindow.document.body.offsetHeight + 'px')\n",
       "         }, 1500)\n",
       "         </script>"
      ],
      "text/plain": [
       "<IPython.core.display.HTML object>"
      ]
     },
     "metadata": {},
     "output_type": "display_data"
    }
   ],
   "source": [
    "# Visualize the input statistics using Facets.\n",
    "# TODO: Your code goes here\n",
    "tfdv.visualize_statistics(train_stats)"
   ]
  },
  {
   "cell_type": "markdown",
   "metadata": {
    "id": "KVR02-y4V0uM"
   },
   "source": [
    "## Infer a schema\n",
    "\n",
    "Now let's use [`tfdv.infer_schema`](https://www.tensorflow.org/tfx/data_validation/api_docs/python/tfdv/infer_schema) to create a schema for our data.  A schema defines constraints for the data that are relevant for ML. Example constraints include the data type of each feature, whether it's numerical or categorical, or the frequency of its presence in the data.  For categorical features the schema also defines the domain - the list of acceptable values.  Since writing a schema can be a tedious task, especially for datasets with lots of features, TFDV provides a method to generate an initial version of the schema based on the descriptive statistics.\n",
    "\n",
    "Getting the schema right is important because the rest of our production pipeline will be relying on the schema that TFDV generates to be correct.  The schema also provides documentation for the data, and so is useful when different developers work on the same data.  Let's use [`tfdv.display_schema`](https://www.tensorflow.org/tfx/data_validation/api_docs/python/tfdv/display_schema) to display the inferred schema so that we can review it."
   ]
  },
  {
   "cell_type": "code",
   "execution_count": 6,
   "metadata": {
    "id": "6LLkRJThVr9m"
   },
   "outputs": [
    {
     "data": {
      "text/html": [
       "<div>\n",
       "<style scoped>\n",
       "    .dataframe tbody tr th:only-of-type {\n",
       "        vertical-align: middle;\n",
       "    }\n",
       "\n",
       "    .dataframe tbody tr th {\n",
       "        vertical-align: top;\n",
       "    }\n",
       "\n",
       "    .dataframe thead th {\n",
       "        text-align: right;\n",
       "    }\n",
       "</style>\n",
       "<table border=\"1\" class=\"dataframe\">\n",
       "  <thead>\n",
       "    <tr style=\"text-align: right;\">\n",
       "      <th></th>\n",
       "      <th>Type</th>\n",
       "      <th>Presence</th>\n",
       "      <th>Valency</th>\n",
       "      <th>Domain</th>\n",
       "    </tr>\n",
       "    <tr>\n",
       "      <th>Feature name</th>\n",
       "      <th></th>\n",
       "      <th></th>\n",
       "      <th></th>\n",
       "      <th></th>\n",
       "    </tr>\n",
       "  </thead>\n",
       "  <tbody>\n",
       "    <tr>\n",
       "      <th>'pickup_community_area'</th>\n",
       "      <td>INT</td>\n",
       "      <td>required</td>\n",
       "      <td></td>\n",
       "      <td>-</td>\n",
       "    </tr>\n",
       "    <tr>\n",
       "      <th>'fare'</th>\n",
       "      <td>FLOAT</td>\n",
       "      <td>required</td>\n",
       "      <td></td>\n",
       "      <td>-</td>\n",
       "    </tr>\n",
       "    <tr>\n",
       "      <th>'trip_start_month'</th>\n",
       "      <td>INT</td>\n",
       "      <td>required</td>\n",
       "      <td></td>\n",
       "      <td>-</td>\n",
       "    </tr>\n",
       "    <tr>\n",
       "      <th>'trip_start_hour'</th>\n",
       "      <td>INT</td>\n",
       "      <td>required</td>\n",
       "      <td></td>\n",
       "      <td>-</td>\n",
       "    </tr>\n",
       "    <tr>\n",
       "      <th>'trip_start_day'</th>\n",
       "      <td>INT</td>\n",
       "      <td>required</td>\n",
       "      <td></td>\n",
       "      <td>-</td>\n",
       "    </tr>\n",
       "    <tr>\n",
       "      <th>'trip_start_timestamp'</th>\n",
       "      <td>INT</td>\n",
       "      <td>required</td>\n",
       "      <td></td>\n",
       "      <td>-</td>\n",
       "    </tr>\n",
       "    <tr>\n",
       "      <th>'pickup_latitude'</th>\n",
       "      <td>FLOAT</td>\n",
       "      <td>required</td>\n",
       "      <td></td>\n",
       "      <td>-</td>\n",
       "    </tr>\n",
       "    <tr>\n",
       "      <th>'pickup_longitude'</th>\n",
       "      <td>FLOAT</td>\n",
       "      <td>required</td>\n",
       "      <td></td>\n",
       "      <td>-</td>\n",
       "    </tr>\n",
       "    <tr>\n",
       "      <th>'dropoff_latitude'</th>\n",
       "      <td>FLOAT</td>\n",
       "      <td>optional</td>\n",
       "      <td>single</td>\n",
       "      <td>-</td>\n",
       "    </tr>\n",
       "    <tr>\n",
       "      <th>'dropoff_longitude'</th>\n",
       "      <td>FLOAT</td>\n",
       "      <td>optional</td>\n",
       "      <td>single</td>\n",
       "      <td>-</td>\n",
       "    </tr>\n",
       "    <tr>\n",
       "      <th>'trip_miles'</th>\n",
       "      <td>FLOAT</td>\n",
       "      <td>required</td>\n",
       "      <td></td>\n",
       "      <td>-</td>\n",
       "    </tr>\n",
       "    <tr>\n",
       "      <th>'pickup_census_tract'</th>\n",
       "      <td>BYTES</td>\n",
       "      <td>optional</td>\n",
       "      <td></td>\n",
       "      <td>-</td>\n",
       "    </tr>\n",
       "    <tr>\n",
       "      <th>'dropoff_census_tract'</th>\n",
       "      <td>INT</td>\n",
       "      <td>optional</td>\n",
       "      <td>single</td>\n",
       "      <td>-</td>\n",
       "    </tr>\n",
       "    <tr>\n",
       "      <th>'payment_type'</th>\n",
       "      <td>STRING</td>\n",
       "      <td>required</td>\n",
       "      <td></td>\n",
       "      <td>'payment_type'</td>\n",
       "    </tr>\n",
       "    <tr>\n",
       "      <th>'company'</th>\n",
       "      <td>STRING</td>\n",
       "      <td>optional</td>\n",
       "      <td>single</td>\n",
       "      <td>'company'</td>\n",
       "    </tr>\n",
       "    <tr>\n",
       "      <th>'trip_seconds'</th>\n",
       "      <td>INT</td>\n",
       "      <td>required</td>\n",
       "      <td></td>\n",
       "      <td>-</td>\n",
       "    </tr>\n",
       "    <tr>\n",
       "      <th>'dropoff_community_area'</th>\n",
       "      <td>INT</td>\n",
       "      <td>optional</td>\n",
       "      <td>single</td>\n",
       "      <td>-</td>\n",
       "    </tr>\n",
       "    <tr>\n",
       "      <th>'tips'</th>\n",
       "      <td>FLOAT</td>\n",
       "      <td>required</td>\n",
       "      <td></td>\n",
       "      <td>-</td>\n",
       "    </tr>\n",
       "  </tbody>\n",
       "</table>\n",
       "</div>"
      ],
      "text/plain": [
       "                            Type  Presence Valency          Domain\n",
       "Feature name                                                      \n",
       "'pickup_community_area'      INT  required                       -\n",
       "'fare'                     FLOAT  required                       -\n",
       "'trip_start_month'           INT  required                       -\n",
       "'trip_start_hour'            INT  required                       -\n",
       "'trip_start_day'             INT  required                       -\n",
       "'trip_start_timestamp'       INT  required                       -\n",
       "'pickup_latitude'          FLOAT  required                       -\n",
       "'pickup_longitude'         FLOAT  required                       -\n",
       "'dropoff_latitude'         FLOAT  optional  single               -\n",
       "'dropoff_longitude'        FLOAT  optional  single               -\n",
       "'trip_miles'               FLOAT  required                       -\n",
       "'pickup_census_tract'      BYTES  optional                       -\n",
       "'dropoff_census_tract'       INT  optional  single               -\n",
       "'payment_type'            STRING  required          'payment_type'\n",
       "'company'                 STRING  optional  single       'company'\n",
       "'trip_seconds'               INT  required                       -\n",
       "'dropoff_community_area'     INT  optional  single               -\n",
       "'tips'                     FLOAT  required                       -"
      ]
     },
     "metadata": {},
     "output_type": "display_data"
    },
    {
     "data": {
      "text/html": [
       "<div>\n",
       "<style scoped>\n",
       "    .dataframe tbody tr th:only-of-type {\n",
       "        vertical-align: middle;\n",
       "    }\n",
       "\n",
       "    .dataframe tbody tr th {\n",
       "        vertical-align: top;\n",
       "    }\n",
       "\n",
       "    .dataframe thead th {\n",
       "        text-align: right;\n",
       "    }\n",
       "</style>\n",
       "<table border=\"1\" class=\"dataframe\">\n",
       "  <thead>\n",
       "    <tr style=\"text-align: right;\">\n",
       "      <th></th>\n",
       "      <th>Values</th>\n",
       "    </tr>\n",
       "    <tr>\n",
       "      <th>Domain</th>\n",
       "      <th></th>\n",
       "    </tr>\n",
       "  </thead>\n",
       "  <tbody>\n",
       "    <tr>\n",
       "      <th>'payment_type'</th>\n",
       "      <td>'Cash', 'Credit Card', 'Dispute', 'No Charge', 'Pcard', 'Unknown'</td>\n",
       "    </tr>\n",
       "    <tr>\n",
       "      <th>'company'</th>\n",
       "      <td>'0118 - 42111 Godfrey S.Awir', '0694 - 59280 Chinesco Trans Inc', '1085 - 72312 N and W Cab Co', '2733 - 74600 Benny Jona', '2809 - 95474 C &amp; D Cab Co Inc.', '3011 - 66308 JBL Cab Inc.', '3152 - 97284 Crystal Abernathy', '3201 - C&amp;D Cab Co Inc', '3201 - CID Cab Co Inc', '3253 - 91138 Gaither Cab Co.', '3385 - 23210 Eman Cab', '3623 - 72222 Arrington Enterprises', '3897 - Ilie Malec', '4053 - Adwar H. Nikola', '4197 - 41842 Royal Star', '4615 - 83503 Tyrone Henderson', '4615 - Tyrone Henderson', '4623 - Jay Kim', '5006 - 39261 Salifu Bawa', '5006 - Salifu Bawa', '5074 - 54002 Ahzmi Inc', '5074 - Ahzmi Inc', '5129 - 87128', '5129 - 98755 Mengisti Taxi', '5129 - Mengisti Taxi', '5724 - KYVI Cab Inc', '585 - Valley Cab Co', '5864 - 73614 Thomas Owusu', '5864 - Thomas Owusu', '5874 - 73628 Sergey Cab Corp.', '5997 - 65283 AW Services Inc.', '5997 - AW Services Inc.', '6488 - 83287 Zuha Taxi', '6743 - Luhak Corp', 'Blue Ribbon Taxi Association Inc.', 'C &amp; D Cab Co Inc', 'Chicago Elite Cab Corp.', 'Chicago Elite Cab Corp. (Chicago Carriag', 'Chicago Medallion Leasing INC', 'Chicago Medallion Management', 'Choice Taxi Association', 'Dispatch Taxi Affiliation', 'KOAM Taxi Association', 'Northwest Management LLC', 'Taxi Affiliation Services', 'Top Cab Affiliation'</td>\n",
       "    </tr>\n",
       "  </tbody>\n",
       "</table>\n",
       "</div>"
      ],
      "text/plain": [
       "                                                                                                                                                                                                                                                                                                                                                                                                                                                                                                                                                                                                                                                                                                                                                                                                                                                                                                                                                                                                                                                                                                                                                                                                                                                                                                                                    Values\n",
       "Domain                                                                                                                                                                                                                                                                                                                                                                                                                                                                                                                                                                                                                                                                                                                                                                                                                                                                                                                                                                                                                                                                                                                                                                                                                                                                                                                                    \n",
       "'payment_type'                                                                                                                                                                                                                                                                                                                                                                                                                                                                                                                                                                                                                                                                                                                                                                                                                                                                                                                                                                                                                                                                                                                                                                                                                                                           'Cash', 'Credit Card', 'Dispute', 'No Charge', 'Pcard', 'Unknown'\n",
       "'company'       '0118 - 42111 Godfrey S.Awir', '0694 - 59280 Chinesco Trans Inc', '1085 - 72312 N and W Cab Co', '2733 - 74600 Benny Jona', '2809 - 95474 C & D Cab Co Inc.', '3011 - 66308 JBL Cab Inc.', '3152 - 97284 Crystal Abernathy', '3201 - C&D Cab Co Inc', '3201 - CID Cab Co Inc', '3253 - 91138 Gaither Cab Co.', '3385 - 23210 Eman Cab', '3623 - 72222 Arrington Enterprises', '3897 - Ilie Malec', '4053 - Adwar H. Nikola', '4197 - 41842 Royal Star', '4615 - 83503 Tyrone Henderson', '4615 - Tyrone Henderson', '4623 - Jay Kim', '5006 - 39261 Salifu Bawa', '5006 - Salifu Bawa', '5074 - 54002 Ahzmi Inc', '5074 - Ahzmi Inc', '5129 - 87128', '5129 - 98755 Mengisti Taxi', '5129 - Mengisti Taxi', '5724 - KYVI Cab Inc', '585 - Valley Cab Co', '5864 - 73614 Thomas Owusu', '5864 - Thomas Owusu', '5874 - 73628 Sergey Cab Corp.', '5997 - 65283 AW Services Inc.', '5997 - AW Services Inc.', '6488 - 83287 Zuha Taxi', '6743 - Luhak Corp', 'Blue Ribbon Taxi Association Inc.', 'C & D Cab Co Inc', 'Chicago Elite Cab Corp.', 'Chicago Elite Cab Corp. (Chicago Carriag', 'Chicago Medallion Leasing INC', 'Chicago Medallion Management', 'Choice Taxi Association', 'Dispatch Taxi Affiliation', 'KOAM Taxi Association', 'Northwest Management LLC', 'Taxi Affiliation Services', 'Top Cab Affiliation'"
      ]
     },
     "metadata": {},
     "output_type": "display_data"
    }
   ],
   "source": [
    "# Infers schema from the input statistics.\n",
    "# TODO: Your code goes here\n",
    "schema = tfdv.infer_schema(train_stats)\n",
    "tfdv.display_schema(schema=schema)"
   ]
  },
  {
   "cell_type": "markdown",
   "metadata": {
    "id": "ZVa3EXE8WEDE"
   },
   "source": [
    "## Check evaluation data for errors\n",
    "\n",
    "So far we've only been looking at the training data.  It's important that our evaluation data is consistent with our training data, including that it uses the same schema.  It's also important that the evaluation data includes examples of roughly the same ranges of values for our numerical features as our training data, so that our coverage of the loss surface during evaluation is roughly the same as during training.  The same is true for categorical features.  Otherwise, we may have training issues that are not identified during evaluation, because we didn't evaluate part of our loss surface.\n",
    "\n",
    "* Notice that each feature now includes statistics for both the training and evaluation datasets.\n",
    "* Notice that the charts now have both the training and evaluation datasets overlaid, making it easy to compare them.\n",
    "* Notice that the charts now include a percentages view, which can be combined with log or the default linear scales.\n",
    "* Notice that the mean and median for `trip_miles` are different for the training versus the evaluation datasets.  Will that cause problems?\n",
    "* Wow, the max `tips` is very different for the training versus the evaluation datasets.  Will that cause problems?\n",
    "* Click expand on the Numeric Features chart, and select the log scale.  Review the `trip_seconds` feature, and notice the difference in the max.  Will evaluation miss parts of the loss surface?"
   ]
  },
  {
   "cell_type": "code",
   "execution_count": 7,
   "metadata": {
    "id": "j_P0RLYlV6XG"
   },
   "outputs": [
    {
     "data": {
      "text/html": [
       "<iframe id='facets-iframe' width=\"100%\" height=\"500px\"></iframe>\n",
       "        <script>\n",
       "        facets_iframe = document.getElementById('facets-iframe');\n",
       "        facets_html = '<script src=\"https://cdnjs.cloudflare.com/ajax/libs/webcomponentsjs/1.3.3/webcomponents-lite.js\"><\\/script><link rel=\"import\" href=\"https://raw.githubusercontent.com/PAIR-code/facets/master/facets-dist/facets-jupyter.html\"><facets-overview proto-input=\"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\"></facets-overview>';\n",
       "        facets_iframe.srcdoc = facets_html;\n",
       "         facets_iframe.id = \"\";\n",
       "         setTimeout(() => {\n",
       "           facets_iframe.setAttribute('height', facets_iframe.contentWindow.document.body.offsetHeight + 'px')\n",
       "         }, 1500)\n",
       "         </script>"
      ],
      "text/plain": [
       "<IPython.core.display.HTML object>"
      ]
     },
     "metadata": {},
     "output_type": "display_data"
    }
   ],
   "source": [
    "# Compute stats for evaluation data\n",
    "eval_stats = tfdv.generate_statistics_from_csv(data_location=EVAL_DATA)\n",
    "\n",
    "# Compare evaluation data with training data\n",
    "tfdv.visualize_statistics(lhs_statistics=eval_stats, rhs_statistics=train_stats,\n",
    "                          lhs_name='EVAL_DATASET', rhs_name='TRAIN_DATASET')"
   ]
  },
  {
   "cell_type": "markdown",
   "metadata": {
    "id": "ycRRa4leHp84"
   },
   "source": [
    "## Check for evaluation anomalies\n",
    "\n",
    "Does our evaluation dataset match the schema from our training dataset?  This is especially important for categorical features, where we want to identify the range of acceptable values.\n",
    "\n",
    "Key Point: What would happen if we tried to evaluate using data with categorical feature values that were not in our training dataset?  What about numeric features that are outside the ranges in our training dataset?"
   ]
  },
  {
   "cell_type": "code",
   "execution_count": 8,
   "metadata": {
    "id": "T7uGVeL2WOam"
   },
   "outputs": [
    {
     "data": {
      "text/html": [
       "<div>\n",
       "<style scoped>\n",
       "    .dataframe tbody tr th:only-of-type {\n",
       "        vertical-align: middle;\n",
       "    }\n",
       "\n",
       "    .dataframe tbody tr th {\n",
       "        vertical-align: top;\n",
       "    }\n",
       "\n",
       "    .dataframe thead th {\n",
       "        text-align: right;\n",
       "    }\n",
       "</style>\n",
       "<table border=\"1\" class=\"dataframe\">\n",
       "  <thead>\n",
       "    <tr style=\"text-align: right;\">\n",
       "      <th></th>\n",
       "      <th>Anomaly short description</th>\n",
       "      <th>Anomaly long description</th>\n",
       "    </tr>\n",
       "    <tr>\n",
       "      <th>Feature name</th>\n",
       "      <th></th>\n",
       "      <th></th>\n",
       "    </tr>\n",
       "  </thead>\n",
       "  <tbody>\n",
       "    <tr>\n",
       "      <th>'company'</th>\n",
       "      <td>Unexpected string values</td>\n",
       "      <td>Examples contain values missing from the schema: 2092 - 61288 Sbeih company (&lt;1%), 2192 - 73487 Zeymane Corp (&lt;1%), 2192 - Zeymane Corp (&lt;1%), 2823 - 73307 Seung Lee (&lt;1%), 3094 - 24059 G.L.B. Cab Co (&lt;1%), 3319 - CD Cab Co (&lt;1%), 3385 - Eman Cab (&lt;1%), 3897 - 57856 Ilie Malec (&lt;1%), 4053 - 40193 Adwar H. Nikola (&lt;1%), 4197 - Royal Star (&lt;1%), 585 - 88805 Valley Cab Co (&lt;1%), 5874 - Sergey Cab Corp. (&lt;1%), 6057 - 24657 Richard Addo (&lt;1%), 6574 - Babylon Express Inc. (&lt;1%), 6742 - 83735 Tasha ride inc (&lt;1%).</td>\n",
       "    </tr>\n",
       "    <tr>\n",
       "      <th>'payment_type'</th>\n",
       "      <td>Unexpected string values</td>\n",
       "      <td>Examples contain values missing from the schema: Prcard (&lt;1%).</td>\n",
       "    </tr>\n",
       "  </tbody>\n",
       "</table>\n",
       "</div>"
      ],
      "text/plain": [
       "               Anomaly short description  \\\n",
       "Feature name                               \n",
       "'company'       Unexpected string values   \n",
       "'payment_type'  Unexpected string values   \n",
       "\n",
       "                                                                                                                                                                                                                                                                                                                                                                                                                                                                                                                         Anomaly long description  \n",
       "Feature name                                                                                                                                                                                                                                                                                                                                                                                                                                                                                                                                       \n",
       "'company'       Examples contain values missing from the schema: 2092 - 61288 Sbeih company (<1%), 2192 - 73487 Zeymane Corp (<1%), 2192 - Zeymane Corp (<1%), 2823 - 73307 Seung Lee (<1%), 3094 - 24059 G.L.B. Cab Co (<1%), 3319 - CD Cab Co (<1%), 3385 - Eman Cab (<1%), 3897 - 57856 Ilie Malec (<1%), 4053 - 40193 Adwar H. Nikola (<1%), 4197 - Royal Star (<1%), 585 - 88805 Valley Cab Co (<1%), 5874 - Sergey Cab Corp. (<1%), 6057 - 24657 Richard Addo (<1%), 6574 - Babylon Express Inc. (<1%), 6742 - 83735 Tasha ride inc (<1%).   \n",
       "'payment_type'                                                                                                                                                                                                                                                                                                                                                                                                                                                                    Examples contain values missing from the schema: Prcard (<1%).   "
      ]
     },
     "metadata": {},
     "output_type": "display_data"
    }
   ],
   "source": [
    "# Check eval data for errors by validating the eval data stats using the previously inferred schema.\n",
    "# TODO: Your code goes here\n",
    "anomalies = tfdv.validate_statistics(statistics=eval_stats, schema=schema)\n",
    "tfdv.display_anomalies(anomalies)"
   ]
  },
  {
   "cell_type": "markdown",
   "metadata": {
    "id": "dzxx1gBpJIBa"
   },
   "source": [
    "## Fix evaluation anomalies in the schema\n",
    "\n",
    "Oops!  It looks like we have some new values for `company` in our evaluation data, that we didn't have in our training data.  We also have a new value for `payment_type`.  These should be considered anomalies, but what we decide to do about them depends on our domain knowledge of the data.  If an anomaly truly indicates a data error, then the underlying data should be fixed.  Otherwise, we can simply update the schema to include the values in the eval dataset.\n",
    "\n",
    "Key Point: How would our evaluation results be affected if we did not fix these problems?\n",
    "\n",
    "Unless we change our evaluation dataset we can't fix everything, but we can fix things in the schema that we're comfortable accepting.  That includes relaxing our view of what is and what is not an anomaly for particular features, as well as updating our schema to include missing values for categorical features.  TFDV has enabled us to discover what we need to fix.\n",
    "\n",
    "Let's make those fixes now, and then review one more time."
   ]
  },
  {
   "cell_type": "code",
   "execution_count": 9,
   "metadata": {
    "id": "legN2nXLWZAc"
   },
   "outputs": [
    {
     "data": {
      "text/html": [
       "<h4 style=\"color:green;\">No anomalies found.</h4>"
      ],
      "text/plain": [
       "<IPython.core.display.HTML object>"
      ]
     },
     "metadata": {},
     "output_type": "display_data"
    }
   ],
   "source": [
    "# Relax the minimum fraction of values that must come from the domain for feature company.\n",
    "company = tfdv.get_feature(schema, 'company')\n",
    "company.distribution_constraints.min_domain_mass = 0.9\n",
    "\n",
    "# Add new value to the domain of feature payment_type.\n",
    "payment_type_domain = tfdv.get_domain(schema, 'payment_type')\n",
    "payment_type_domain.value.append('Prcard')\n",
    "\n",
    "# Validate eval stats after updating the schema \n",
    "# TODO: Your code goes here\n",
    "updated_anomalies = tfdv.validate_statistics(eval_stats, schema)\n",
    "tfdv.display_anomalies(updated_anomalies)"
   ]
  },
  {
   "cell_type": "markdown",
   "metadata": {
    "id": "xNo72YP9LN98"
   },
   "source": [
    "Hey, look at that!  We verified that the training and evaluation data are now consistent!  Thanks TFDV ;)"
   ]
  },
  {
   "cell_type": "markdown",
   "metadata": {
    "id": "KZ1P4ucHJj5o"
   },
   "source": [
    "## Schema Environments"
   ]
  },
  {
   "cell_type": "markdown",
   "metadata": {
    "id": "qb179jczJppA"
   },
   "source": [
    "We also split off a 'serving' dataset for this example, so we should check that too.  By default all datasets in a pipeline should use the same schema, but there are often exceptions. For example, in supervised learning we need to include labels in our dataset, but when we serve the model for inference the labels will not be included. In some cases introducing slight schema variations is necessary.\n",
    "\n",
    "**Environments** can be used to express such requirements. In particular, features in schema can be associated with a set of environments using `default_environment`, `in_environment` and `not_in_environment`.\n",
    "\n",
    "For example, in this dataset the `tips` feature is included as the label for training, but it's missing in the serving data. Without environment specified, it will show up as an anomaly."
   ]
  },
  {
   "cell_type": "code",
   "execution_count": 10,
   "metadata": {
    "id": "wSZfbnifJuTA"
   },
   "outputs": [
    {
     "data": {
      "text/html": [
       "<div>\n",
       "<style scoped>\n",
       "    .dataframe tbody tr th:only-of-type {\n",
       "        vertical-align: middle;\n",
       "    }\n",
       "\n",
       "    .dataframe tbody tr th {\n",
       "        vertical-align: top;\n",
       "    }\n",
       "\n",
       "    .dataframe thead th {\n",
       "        text-align: right;\n",
       "    }\n",
       "</style>\n",
       "<table border=\"1\" class=\"dataframe\">\n",
       "  <thead>\n",
       "    <tr style=\"text-align: right;\">\n",
       "      <th></th>\n",
       "      <th>Anomaly short description</th>\n",
       "      <th>Anomaly long description</th>\n",
       "    </tr>\n",
       "    <tr>\n",
       "      <th>Feature name</th>\n",
       "      <th></th>\n",
       "      <th></th>\n",
       "    </tr>\n",
       "  </thead>\n",
       "  <tbody>\n",
       "    <tr>\n",
       "      <th>'tips'</th>\n",
       "      <td>Column dropped</td>\n",
       "      <td>Column is completely missing</td>\n",
       "    </tr>\n",
       "  </tbody>\n",
       "</table>\n",
       "</div>"
      ],
      "text/plain": [
       "             Anomaly short description      Anomaly long description\n",
       "Feature name                                                        \n",
       "'tips'                  Column dropped  Column is completely missing"
      ]
     },
     "metadata": {},
     "output_type": "display_data"
    }
   ],
   "source": [
    "serving_stats = tfdv.generate_statistics_from_csv(SERVING_DATA)\n",
    "serving_anomalies = tfdv.validate_statistics(serving_stats, schema)\n",
    "\n",
    "tfdv.display_anomalies(serving_anomalies)"
   ]
  },
  {
   "cell_type": "markdown",
   "metadata": {
    "id": "FDYHvZ09LfkT"
   },
   "source": [
    "We'll deal with the `tips` feature below.  We also have an INT value in our trip seconds, where our schema expected a FLOAT. By making us aware of that difference, TFDV helps uncover inconsistencies in the way the data is generated for training and serving. It's very easy to be unaware of problems like that until model performance suffers, sometimes catastrophically. It may or may not be a significant issue, but in any case this should be cause for further investigation.\n",
    "\n",
    "In this case, we can safely convert INT values to FLOATs, so we want to tell TFDV to use our schema to infer the type.  Let's do that now."
   ]
  },
  {
   "cell_type": "code",
   "execution_count": 11,
   "metadata": {
    "id": "OhtYF8aAczpd"
   },
   "outputs": [
    {
     "data": {
      "text/html": [
       "<div>\n",
       "<style scoped>\n",
       "    .dataframe tbody tr th:only-of-type {\n",
       "        vertical-align: middle;\n",
       "    }\n",
       "\n",
       "    .dataframe tbody tr th {\n",
       "        vertical-align: top;\n",
       "    }\n",
       "\n",
       "    .dataframe thead th {\n",
       "        text-align: right;\n",
       "    }\n",
       "</style>\n",
       "<table border=\"1\" class=\"dataframe\">\n",
       "  <thead>\n",
       "    <tr style=\"text-align: right;\">\n",
       "      <th></th>\n",
       "      <th>Anomaly short description</th>\n",
       "      <th>Anomaly long description</th>\n",
       "    </tr>\n",
       "    <tr>\n",
       "      <th>Feature name</th>\n",
       "      <th></th>\n",
       "      <th></th>\n",
       "    </tr>\n",
       "  </thead>\n",
       "  <tbody>\n",
       "    <tr>\n",
       "      <th>'tips'</th>\n",
       "      <td>Column dropped</td>\n",
       "      <td>Column is completely missing</td>\n",
       "    </tr>\n",
       "  </tbody>\n",
       "</table>\n",
       "</div>"
      ],
      "text/plain": [
       "             Anomaly short description      Anomaly long description\n",
       "Feature name                                                        \n",
       "'tips'                  Column dropped  Column is completely missing"
      ]
     },
     "metadata": {},
     "output_type": "display_data"
    }
   ],
   "source": [
    "options = tfdv.StatsOptions(schema=schema, infer_type_from_schema=True)\n",
    "serving_stats = tfdv.generate_statistics_from_csv(SERVING_DATA, stats_options=options)\n",
    "serving_anomalies = tfdv.validate_statistics(serving_stats, schema)\n",
    "\n",
    "tfdv.display_anomalies(serving_anomalies)"
   ]
  },
  {
   "cell_type": "markdown",
   "metadata": {
    "id": "bJjh5rigc5xy"
   },
   "source": [
    "Now we just have the `tips` feature (which is our label) showing up as an anomaly ('Column dropped').  Of course we don't expect to have labels in our serving data, so let's tell TFDV to ignore that."
   ]
  },
  {
   "cell_type": "code",
   "execution_count": 12,
   "metadata": {
    "id": "bnbnw8H6Lp2M"
   },
   "outputs": [
    {
     "data": {
      "text/html": [
       "<h4 style=\"color:green;\">No anomalies found.</h4>"
      ],
      "text/plain": [
       "<IPython.core.display.HTML object>"
      ]
     },
     "metadata": {},
     "output_type": "display_data"
    }
   ],
   "source": [
    "# All features are by default in both TRAINING and SERVING environments.\n",
    "schema.default_environment.append('TRAINING')\n",
    "schema.default_environment.append('SERVING')\n",
    "\n",
    "# Specify that 'tips' feature is not in SERVING environment.\n",
    "tfdv.get_feature(schema, 'tips').not_in_environment.append('SERVING')\n",
    "\n",
    "serving_anomalies_with_env = tfdv.validate_statistics(\n",
    "    serving_stats, schema, environment='SERVING')\n",
    "\n",
    "tfdv.display_anomalies(serving_anomalies_with_env)"
   ]
  },
  {
   "cell_type": "markdown",
   "metadata": {
    "id": "yteMr3AGMYEp"
   },
   "source": [
    "## Check for drift and skew"
   ]
  },
  {
   "cell_type": "markdown",
   "metadata": {
    "id": "8Ftd5k6AMkPV"
   },
   "source": [
    "In addition to checking whether a dataset conforms to the expectations set in the schema, TFDV also provides functionalities to detect drift and skew.  TFDV performs this check by comparing the statistics of the different datasets based on the drift/skew comparators specified in the schema.\n",
    "\n",
    "### Drift\n",
    "\n",
    "Drift detection is supported for categorical features and between consecutive spans of data (i.e., between span N and span N+1), such as between different days of training data.  We express drift in terms of [L-infinity distance](https://en.wikipedia.org/wiki/Chebyshev_distance), and you can set the threshold distance so that you receive warnings when the drift is higher than is acceptable.  Setting the correct distance is typically an iterative process requiring domain knowledge and experimentation."
   ]
  },
  {
   "cell_type": "markdown",
   "metadata": {
    "id": "eBFuLpXb6qSp"
   },
   "source": [
    "### Skew\n",
    "\n",
    "TFDV can detect three different kinds of skew in your data - schema skew, feature skew, and distribution skew.\n",
    "\n",
    "#### Schema Skew\n",
    "\n",
    "Schema skew occurs when the training and serving data do not conform to the same schema. Both training and serving data are expected to adhere to the same schema. Any expected deviations between the two (such as the label feature being only present in the training data but not in serving) should be specified through environments field in the schema.\n",
    "\n",
    "#### Feature Skew\n",
    "\n",
    "Feature skew occurs when the feature values that a model trains on are different from the feature values that it sees at serving time. For example, this can happen when:\n",
    "\n",
    "* A data source that provides some feature values is modified between training and serving time\n",
    "* There is different logic for generating features between training and serving. For example, if you apply some transformation only in one of the two code paths.\n",
    "\n",
    "#### Distribution Skew\n",
    "\n",
    "Distribution skew occurs when the distribution of the training dataset is significantly different from the distribution of the serving dataset. One of the key causes for distribution skew is using different code or different data sources to generate the training dataset. Another reason is a faulty sampling mechanism that chooses a non-representative subsample of the serving data to train on."
   ]
  },
  {
   "cell_type": "code",
   "execution_count": 13,
   "metadata": {
    "id": "wEUsZm_rOd1Q"
   },
   "outputs": [
    {
     "data": {
      "text/html": [
       "<div>\n",
       "<style scoped>\n",
       "    .dataframe tbody tr th:only-of-type {\n",
       "        vertical-align: middle;\n",
       "    }\n",
       "\n",
       "    .dataframe tbody tr th {\n",
       "        vertical-align: top;\n",
       "    }\n",
       "\n",
       "    .dataframe thead th {\n",
       "        text-align: right;\n",
       "    }\n",
       "</style>\n",
       "<table border=\"1\" class=\"dataframe\">\n",
       "  <thead>\n",
       "    <tr style=\"text-align: right;\">\n",
       "      <th></th>\n",
       "      <th>Anomaly short description</th>\n",
       "      <th>Anomaly long description</th>\n",
       "    </tr>\n",
       "    <tr>\n",
       "      <th>Feature name</th>\n",
       "      <th></th>\n",
       "      <th></th>\n",
       "    </tr>\n",
       "  </thead>\n",
       "  <tbody>\n",
       "    <tr>\n",
       "      <th>'company'</th>\n",
       "      <td>High Linfty distance between current and previous</td>\n",
       "      <td>The Linfty distance between current and previous is 0.00820891 (up to six significant digits), above the threshold 0.001. The feature value with maximum difference is: Blue Ribbon Taxi Association Inc.</td>\n",
       "    </tr>\n",
       "    <tr>\n",
       "      <th>'payment_type'</th>\n",
       "      <td>High Linfty distance between training and serving</td>\n",
       "      <td>The Linfty distance between training and serving is 0.0225 (up to six significant digits), above the threshold 0.01. The feature value with maximum difference is: Credit Card</td>\n",
       "    </tr>\n",
       "  </tbody>\n",
       "</table>\n",
       "</div>"
      ],
      "text/plain": [
       "                                        Anomaly short description  \\\n",
       "Feature name                                                        \n",
       "'company'       High Linfty distance between current and previous   \n",
       "'payment_type'  High Linfty distance between training and serving   \n",
       "\n",
       "                                                                                                                                                                                                 Anomaly long description  \n",
       "Feature name                                                                                                                                                                                                               \n",
       "'company'       The Linfty distance between current and previous is 0.00820891 (up to six significant digits), above the threshold 0.001. The feature value with maximum difference is: Blue Ribbon Taxi Association Inc.  \n",
       "'payment_type'                             The Linfty distance between training and serving is 0.0225 (up to six significant digits), above the threshold 0.01. The feature value with maximum difference is: Credit Card  "
      ]
     },
     "metadata": {},
     "output_type": "display_data"
    }
   ],
   "source": [
    "# Add skew comparator for 'payment_type' feature.\n",
    "payment_type = tfdv.get_feature(schema, 'payment_type')\n",
    "payment_type.skew_comparator.infinity_norm.threshold = 0.01\n",
    "\n",
    "# Add drift comparator for 'company' feature.\n",
    "company=tfdv.get_feature(schema, 'company')\n",
    "company.drift_comparator.infinity_norm.threshold = 0.001\n",
    "\n",
    "# TODO: Your code goes here\n",
    "skew_anomalies = tfdv.validate_statistics(train_stats, schema,\n",
    "                                          previous_statistics=eval_stats,\n",
    "                                          serving_statistics=serving_stats)\n",
    "tfdv.display_anomalies(skew_anomalies)"
   ]
  },
  {
   "cell_type": "markdown",
   "metadata": {
    "id": "1GzbbsPgf0Bg"
   },
   "source": [
    "In this example we do see some drift, but it is well below the threshold that we've set."
   ]
  },
  {
   "cell_type": "markdown",
   "metadata": {
    "id": "wJ5saC9eWvHx"
   },
   "source": [
    "## Freeze the schema\n",
    "\n",
    "Now that the schema has been reviewed and curated, we will store it in a file to reflect its \"frozen\" state."
   ]
  },
  {
   "cell_type": "code",
   "execution_count": 14,
   "metadata": {
    "id": "ydkL4DkIWn18"
   },
   "outputs": [
    {
     "name": "stdout",
     "output_type": "stream",
     "text": [
      "feature {\n",
      "  name: \"pickup_community_area\"\n",
      "  type: INT\n",
      "  presence {\n",
      "    min_fraction: 1.0\n",
      "    min_count: 1\n",
      "  }\n",
      "  shape {\n",
      "    dim {\n",
      "      size: 1\n",
      "    }\n",
      "  }\n",
      "}\n",
      "feature {\n",
      "  name: \"fare\"\n",
      "  type: FLOAT\n",
      "  presence {\n",
      "    min_fraction: 1.0\n",
      "    min_count: 1\n",
      "  }\n",
      "  shape {\n",
      "    dim {\n",
      "      size: 1\n",
      "    }\n",
      "  }\n",
      "}\n",
      "feature {\n",
      "  name: \"trip_start_month\"\n",
      "  type: INT\n",
      "  presence {\n",
      "    min_fraction: 1.0\n",
      "    min_count: 1\n",
      "  }\n",
      "  shape {\n",
      "    dim {\n",
      "      size: 1\n",
      "    }\n",
      "  }\n",
      "}\n",
      "feature {\n",
      "  name: \"trip_start_hour\"\n",
      "  type: INT\n",
      "  presence {\n",
      "    min_fraction: 1.0\n",
      "    min_count: 1\n",
      "  }\n",
      "  shape {\n",
      "    dim {\n",
      "      size: 1\n",
      "    }\n",
      "  }\n",
      "}\n",
      "feature {\n",
      "  name: \"trip_start_day\"\n",
      "  type: INT\n",
      "  presence {\n",
      "    min_fraction: 1.0\n",
      "    min_count: 1\n",
      "  }\n",
      "  shape {\n",
      "    dim {\n",
      "      size: 1\n",
      "    }\n",
      "  }\n",
      "}\n",
      "feature {\n",
      "  name: \"trip_start_timestamp\"\n",
      "  type: INT\n",
      "  presence {\n",
      "    min_fraction: 1.0\n",
      "    min_count: 1\n",
      "  }\n",
      "  shape {\n",
      "    dim {\n",
      "      size: 1\n",
      "    }\n",
      "  }\n",
      "}\n",
      "feature {\n",
      "  name: \"pickup_latitude\"\n",
      "  type: FLOAT\n",
      "  presence {\n",
      "    min_fraction: 1.0\n",
      "    min_count: 1\n",
      "  }\n",
      "  shape {\n",
      "    dim {\n",
      "      size: 1\n",
      "    }\n",
      "  }\n",
      "}\n",
      "feature {\n",
      "  name: \"pickup_longitude\"\n",
      "  type: FLOAT\n",
      "  presence {\n",
      "    min_fraction: 1.0\n",
      "    min_count: 1\n",
      "  }\n",
      "  shape {\n",
      "    dim {\n",
      "      size: 1\n",
      "    }\n",
      "  }\n",
      "}\n",
      "feature {\n",
      "  name: \"dropoff_latitude\"\n",
      "  value_count {\n",
      "    min: 1\n",
      "    max: 1\n",
      "  }\n",
      "  type: FLOAT\n",
      "  presence {\n",
      "    min_count: 1\n",
      "  }\n",
      "}\n",
      "feature {\n",
      "  name: \"dropoff_longitude\"\n",
      "  value_count {\n",
      "    min: 1\n",
      "    max: 1\n",
      "  }\n",
      "  type: FLOAT\n",
      "  presence {\n",
      "    min_count: 1\n",
      "  }\n",
      "}\n",
      "feature {\n",
      "  name: \"trip_miles\"\n",
      "  type: FLOAT\n",
      "  presence {\n",
      "    min_fraction: 1.0\n",
      "    min_count: 1\n",
      "  }\n",
      "  shape {\n",
      "    dim {\n",
      "      size: 1\n",
      "    }\n",
      "  }\n",
      "}\n",
      "feature {\n",
      "  name: \"pickup_census_tract\"\n",
      "  type: BYTES\n",
      "  presence {\n",
      "    min_count: 0\n",
      "  }\n",
      "}\n",
      "feature {\n",
      "  name: \"dropoff_census_tract\"\n",
      "  value_count {\n",
      "    min: 1\n",
      "    max: 1\n",
      "  }\n",
      "  type: INT\n",
      "  presence {\n",
      "    min_count: 1\n",
      "  }\n",
      "}\n",
      "feature {\n",
      "  name: \"payment_type\"\n",
      "  type: BYTES\n",
      "  domain: \"payment_type\"\n",
      "  presence {\n",
      "    min_fraction: 1.0\n",
      "    min_count: 1\n",
      "  }\n",
      "  skew_comparator {\n",
      "    infinity_norm {\n",
      "      threshold: 0.01\n",
      "    }\n",
      "  }\n",
      "  shape {\n",
      "    dim {\n",
      "      size: 1\n",
      "    }\n",
      "  }\n",
      "}\n",
      "feature {\n",
      "  name: \"company\"\n",
      "  value_count {\n",
      "    min: 1\n",
      "    max: 1\n",
      "  }\n",
      "  type: BYTES\n",
      "  domain: \"company\"\n",
      "  presence {\n",
      "    min_count: 1\n",
      "  }\n",
      "  distribution_constraints {\n",
      "    min_domain_mass: 0.9\n",
      "  }\n",
      "  drift_comparator {\n",
      "    infinity_norm {\n",
      "      threshold: 0.001\n",
      "    }\n",
      "  }\n",
      "}\n",
      "feature {\n",
      "  name: \"trip_seconds\"\n",
      "  type: INT\n",
      "  presence {\n",
      "    min_fraction: 1.0\n",
      "    min_count: 1\n",
      "  }\n",
      "  shape {\n",
      "    dim {\n",
      "      size: 1\n",
      "    }\n",
      "  }\n",
      "}\n",
      "feature {\n",
      "  name: \"dropoff_community_area\"\n",
      "  value_count {\n",
      "    min: 1\n",
      "    max: 1\n",
      "  }\n",
      "  type: INT\n",
      "  presence {\n",
      "    min_count: 1\n",
      "  }\n",
      "}\n",
      "feature {\n",
      "  name: \"tips\"\n",
      "  type: FLOAT\n",
      "  presence {\n",
      "    min_fraction: 1.0\n",
      "    min_count: 1\n",
      "  }\n",
      "  not_in_environment: \"SERVING\"\n",
      "  shape {\n",
      "    dim {\n",
      "      size: 1\n",
      "    }\n",
      "  }\n",
      "}\n",
      "string_domain {\n",
      "  name: \"payment_type\"\n",
      "  value: \"Cash\"\n",
      "  value: \"Credit Card\"\n",
      "  value: \"Dispute\"\n",
      "  value: \"No Charge\"\n",
      "  value: \"Pcard\"\n",
      "  value: \"Unknown\"\n",
      "  value: \"Prcard\"\n",
      "}\n",
      "string_domain {\n",
      "  name: \"company\"\n",
      "  value: \"0118 - 42111 Godfrey S.Awir\"\n",
      "  value: \"0694 - 59280 Chinesco Trans Inc\"\n",
      "  value: \"1085 - 72312 N and W Cab Co\"\n",
      "  value: \"2733 - 74600 Benny Jona\"\n",
      "  value: \"2809 - 95474 C & D Cab Co Inc.\"\n",
      "  value: \"3011 - 66308 JBL Cab Inc.\"\n",
      "  value: \"3152 - 97284 Crystal Abernathy\"\n",
      "  value: \"3201 - C&D Cab Co Inc\"\n",
      "  value: \"3201 - CID Cab Co Inc\"\n",
      "  value: \"3253 - 91138 Gaither Cab Co.\"\n",
      "  value: \"3385 - 23210 Eman Cab\"\n",
      "  value: \"3623 - 72222 Arrington Enterprises\"\n",
      "  value: \"3897 - Ilie Malec\"\n",
      "  value: \"4053 - Adwar H. Nikola\"\n",
      "  value: \"4197 - 41842 Royal Star\"\n",
      "  value: \"4615 - 83503 Tyrone Henderson\"\n",
      "  value: \"4615 - Tyrone Henderson\"\n",
      "  value: \"4623 - Jay Kim\"\n",
      "  value: \"5006 - 39261 Salifu Bawa\"\n",
      "  value: \"5006 - Salifu Bawa\"\n",
      "  value: \"5074 - 54002 Ahzmi Inc\"\n",
      "  value: \"5074 - Ahzmi Inc\"\n",
      "  value: \"5129 - 87128\"\n",
      "  value: \"5129 - 98755 Mengisti Taxi\"\n",
      "  value: \"5129 - Mengisti Taxi\"\n",
      "  value: \"5724 - KYVI Cab Inc\"\n",
      "  value: \"585 - Valley Cab Co\"\n",
      "  value: \"5864 - 73614 Thomas Owusu\"\n",
      "  value: \"5864 - Thomas Owusu\"\n",
      "  value: \"5874 - 73628 Sergey Cab Corp.\"\n",
      "  value: \"5997 - 65283 AW Services Inc.\"\n",
      "  value: \"5997 - AW Services Inc.\"\n",
      "  value: \"6488 - 83287 Zuha Taxi\"\n",
      "  value: \"6743 - Luhak Corp\"\n",
      "  value: \"Blue Ribbon Taxi Association Inc.\"\n",
      "  value: \"C & D Cab Co Inc\"\n",
      "  value: \"Chicago Elite Cab Corp.\"\n",
      "  value: \"Chicago Elite Cab Corp. (Chicago Carriag\"\n",
      "  value: \"Chicago Medallion Leasing INC\"\n",
      "  value: \"Chicago Medallion Management\"\n",
      "  value: \"Choice Taxi Association\"\n",
      "  value: \"Dispatch Taxi Affiliation\"\n",
      "  value: \"KOAM Taxi Association\"\n",
      "  value: \"Northwest Management LLC\"\n",
      "  value: \"Taxi Affiliation Services\"\n",
      "  value: \"Top Cab Affiliation\"\n",
      "}\n",
      "default_environment: \"TRAINING\"\n",
      "default_environment: \"SERVING\"\n"
     ]
    }
   ],
   "source": [
    "from tensorflow.python.lib.io import file_io\n",
    "from google.protobuf import text_format\n",
    "\n",
    "file_io.recursive_create_dir(OUTPUT_DIR)\n",
    "schema_file = os.path.join(OUTPUT_DIR, 'schema.pbtxt')\n",
    "tfdv.write_schema_text(schema, schema_file)\n",
    "\n",
    "!cat {schema_file}"
   ]
  },
  {
   "cell_type": "markdown",
   "metadata": {
    "id": "b8eC59yISdGB"
   },
   "source": [
    "## When to use TFDV\n",
    "\n",
    "It's easy to think of TFDV as only applying to the start of your training pipeline, as we did here, but in fact it has many uses.  Here are a few more:\n",
    "\n",
    "* Validating new data for inference to make sure that we haven't suddenly started receiving bad features\n",
    "* Validating new data for inference to make sure that our model has trained on that part of the decision surface\n",
    "* Validating our data after we've transformed it and done feature engineering (probably using [TensorFlow Transform](https://www.tensorflow.org/tfx/guide/transform)) to make sure we haven't done something wrong"
   ]
  }
 ],
 "metadata": {
  "colab": {
   "collapsed_sections": [
    "tghWegsjhpkt"
   ],
   "name": "tfdv_basic.ipynb",
   "private_outputs": true,
   "provenance": [],
   "toc_visible": true
  },
  "environment": {
   "kernel": "python3",
   "name": "tf2-gpu.2-6.m94",
   "type": "gcloud",
   "uri": "gcr.io/deeplearning-platform-release/tf2-gpu.2-6:m94"
  },
  "kernelspec": {
   "display_name": "Python 3",
   "language": "python",
   "name": "python3"
  },
  "language_info": {
   "codemirror_mode": {
    "name": "ipython",
    "version": 3
   },
   "file_extension": ".py",
   "mimetype": "text/x-python",
   "name": "python",
   "nbconvert_exporter": "python",
   "pygments_lexer": "ipython3",
   "version": "3.7.12"
  }
 },
 "nbformat": 4,
 "nbformat_minor": 4
}
